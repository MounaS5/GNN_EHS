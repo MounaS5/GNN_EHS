{
  "nbformat": 4,
  "nbformat_minor": 0,
  "metadata": {
    "colab": {
      "name": "MutaSarpyPatternMatchAnalysis.ipynb",
      "provenance": [],
      "collapsed_sections": [
        "8g9LRWXf5yzV",
        "yE1h-qjghr4O",
        "bnvNS-JPqsrJ",
        "EhVcTkxznZ3H",
        "gAOS31MvqwaN"
      ],
      "authorship_tag": "ABX9TyM7h4oU7RYfNgoz3rBsPvGP",
      "include_colab_link": true
    },
    "kernelspec": {
      "name": "python3",
      "display_name": "Python 3"
    },
    "language_info": {
      "name": "python"
    }
  },
  "cells": [
    {
      "cell_type": "markdown",
      "metadata": {
        "id": "view-in-github",
        "colab_type": "text"
      },
      "source": [
        "<a href=\"https://colab.research.google.com/github/MounaS5/GNN_EHS/blob/master/MutaSarpyPatternMatchAnalysis.ipynb\" target=\"_parent\"><img src=\"https://colab.research.google.com/assets/colab-badge.svg\" alt=\"Open In Colab\"/></a>"
      ]
    },
    {
      "cell_type": "markdown",
      "metadata": {
        "id": "CeG7ucw3gKZm"
      },
      "source": [
        "# RDKit Installation and Other Packages\n"
      ]
    },
    {
      "cell_type": "code",
      "metadata": {
        "colab": {
          "base_uri": "https://localhost:8080/",
          "height": 647
        },
        "id": "O3ihNTbAgJz7",
        "outputId": "924b4478-ccfc-4594-8568-1b0b57c6c3d2"
      },
      "source": [
        "import sys\n",
        "import os\n",
        "import requests\n",
        "import subprocess\n",
        "import shutil\n",
        "from logging import getLogger, StreamHandler, INFO\n",
        "\n",
        "\n",
        "logger = getLogger(__name__)\n",
        "logger.addHandler(StreamHandler())\n",
        "logger.setLevel(INFO)\n",
        "\n",
        "\n",
        "def install(\n",
        "        chunk_size=4096,\n",
        "        file_name=\"Miniconda3-latest-Linux-x86_64.sh\",\n",
        "        url_base=\"https://repo.continuum.io/miniconda/\",\n",
        "        conda_path=os.path.expanduser(os.path.join(\"~\", \"miniconda\")),\n",
        "        rdkit_version=None,\n",
        "        add_python_path=True,\n",
        "        force=False):\n",
        "    \"\"\"install rdkit from miniconda\n",
        "    ```\n",
        "    import rdkit_installer\n",
        "    rdkit_installer.install()\n",
        "    ```\n",
        "    \"\"\"\n",
        "\n",
        "    python_path = os.path.join(\n",
        "        conda_path,\n",
        "        \"lib\",\n",
        "        \"python{0}.{1}\".format(*sys.version_info),\n",
        "        \"site-packages\",\n",
        "    )\n",
        "\n",
        "    if add_python_path and python_path not in sys.path:\n",
        "        logger.info(\"add {} to PYTHONPATH\".format(python_path))\n",
        "        sys.path.append(python_path)\n",
        "\n",
        "    if os.path.isdir(os.path.join(python_path, \"rdkit\")):\n",
        "        logger.info(\"rdkit is already installed\")\n",
        "        if not force:\n",
        "            return\n",
        "\n",
        "        logger.info(\"force re-install\")\n",
        "\n",
        "    url = url_base + file_name\n",
        "    python_version = \"{0}.{1}.{2}\".format(*sys.version_info)\n",
        "\n",
        "    logger.info(\"python version: {}\".format(python_version))\n",
        "\n",
        "    if os.path.isdir(conda_path):\n",
        "        logger.warning(\"remove current miniconda\")\n",
        "        shutil.rmtree(conda_path)\n",
        "    elif os.path.isfile(conda_path):\n",
        "        logger.warning(\"remove {}\".format(conda_path))\n",
        "        os.remove(conda_path)\n",
        "\n",
        "    logger.info('fetching installer from {}'.format(url))\n",
        "    res = requests.get(url, stream=True)\n",
        "    res.raise_for_status()\n",
        "    with open(file_name, 'wb') as f:\n",
        "        for chunk in res.iter_content(chunk_size):\n",
        "            f.write(chunk)\n",
        "    logger.info('done')\n",
        "\n",
        "    logger.info('installing miniconda to {}'.format(conda_path))\n",
        "    subprocess.check_call([\"bash\", file_name, \"-b\", \"-p\", conda_path])\n",
        "    logger.info('done')\n",
        "\n",
        "    logger.info(\"installing rdkit\")\n",
        "    subprocess.check_call([\n",
        "        os.path.join(conda_path, \"bin\", \"conda\"),\n",
        "        \"install\",\n",
        "        \"--yes\",\n",
        "        \"-c\", \"rdkit\",\n",
        "        \"python=={}\".format(python_version),\n",
        "        \"rdkit\" if rdkit_version is None else \"rdkit=={}\".format(rdkit_version)])\n",
        "    logger.info(\"done\")\n",
        "\n",
        "    import rdkit\n",
        "    logger.info(\"rdkit-{} installation finished!\".format(rdkit.__version__))\n",
        "\n",
        "\n",
        "if __name__ == \"__main__\":\n",
        "    install()"
      ],
      "execution_count": null,
      "outputs": [
        {
          "output_type": "stream",
          "text": [
            "python version: 3.7.11\n",
            "python version: 3.7.11\n",
            "remove current miniconda\n",
            "remove current miniconda\n",
            "fetching installer from https://repo.continuum.io/miniconda/Miniconda3-latest-Linux-x86_64.sh\n",
            "fetching installer from https://repo.continuum.io/miniconda/Miniconda3-latest-Linux-x86_64.sh\n",
            "done\n",
            "done\n",
            "installing miniconda to /root/miniconda\n",
            "installing miniconda to /root/miniconda\n",
            "done\n",
            "done\n",
            "installing rdkit\n",
            "installing rdkit\n"
          ],
          "name": "stderr"
        },
        {
          "output_type": "error",
          "ename": "CalledProcessError",
          "evalue": "ignored",
          "traceback": [
            "\u001b[0;31m---------------------------------------------------------------------------\u001b[0m",
            "\u001b[0;31mCalledProcessError\u001b[0m                        Traceback (most recent call last)",
            "\u001b[0;32m<ipython-input-2-3fd6bd4f155c>\u001b[0m in \u001b[0;36m<module>\u001b[0;34m()\u001b[0m\n\u001b[1;32m     84\u001b[0m \u001b[0;34m\u001b[0m\u001b[0m\n\u001b[1;32m     85\u001b[0m \u001b[0;32mif\u001b[0m \u001b[0m__name__\u001b[0m \u001b[0;34m==\u001b[0m \u001b[0;34m\"__main__\"\u001b[0m\u001b[0;34m:\u001b[0m\u001b[0;34m\u001b[0m\u001b[0;34m\u001b[0m\u001b[0m\n\u001b[0;32m---> 86\u001b[0;31m     \u001b[0minstall\u001b[0m\u001b[0;34m(\u001b[0m\u001b[0;34m)\u001b[0m\u001b[0;34m\u001b[0m\u001b[0;34m\u001b[0m\u001b[0m\n\u001b[0m",
            "\u001b[0;32m<ipython-input-2-3fd6bd4f155c>\u001b[0m in \u001b[0;36minstall\u001b[0;34m(chunk_size, file_name, url_base, conda_path, rdkit_version, add_python_path, force)\u001b[0m\n\u001b[1;32m     76\u001b[0m         \u001b[0;34m\"-c\"\u001b[0m\u001b[0;34m,\u001b[0m \u001b[0;34m\"rdkit\"\u001b[0m\u001b[0;34m,\u001b[0m\u001b[0;34m\u001b[0m\u001b[0;34m\u001b[0m\u001b[0m\n\u001b[1;32m     77\u001b[0m         \u001b[0;34m\"python=={}\"\u001b[0m\u001b[0;34m.\u001b[0m\u001b[0mformat\u001b[0m\u001b[0;34m(\u001b[0m\u001b[0mpython_version\u001b[0m\u001b[0;34m)\u001b[0m\u001b[0;34m,\u001b[0m\u001b[0;34m\u001b[0m\u001b[0;34m\u001b[0m\u001b[0m\n\u001b[0;32m---> 78\u001b[0;31m         \"rdkit\" if rdkit_version is None else \"rdkit=={}\".format(rdkit_version)])\n\u001b[0m\u001b[1;32m     79\u001b[0m     \u001b[0mlogger\u001b[0m\u001b[0;34m.\u001b[0m\u001b[0minfo\u001b[0m\u001b[0;34m(\u001b[0m\u001b[0;34m\"done\"\u001b[0m\u001b[0;34m)\u001b[0m\u001b[0;34m\u001b[0m\u001b[0;34m\u001b[0m\u001b[0m\n\u001b[1;32m     80\u001b[0m \u001b[0;34m\u001b[0m\u001b[0m\n",
            "\u001b[0;32m/usr/lib/python3.7/subprocess.py\u001b[0m in \u001b[0;36mcheck_call\u001b[0;34m(*popenargs, **kwargs)\u001b[0m\n\u001b[1;32m    361\u001b[0m         \u001b[0;32mif\u001b[0m \u001b[0mcmd\u001b[0m \u001b[0;32mis\u001b[0m \u001b[0;32mNone\u001b[0m\u001b[0;34m:\u001b[0m\u001b[0;34m\u001b[0m\u001b[0;34m\u001b[0m\u001b[0m\n\u001b[1;32m    362\u001b[0m             \u001b[0mcmd\u001b[0m \u001b[0;34m=\u001b[0m \u001b[0mpopenargs\u001b[0m\u001b[0;34m[\u001b[0m\u001b[0;36m0\u001b[0m\u001b[0;34m]\u001b[0m\u001b[0;34m\u001b[0m\u001b[0;34m\u001b[0m\u001b[0m\n\u001b[0;32m--> 363\u001b[0;31m         \u001b[0;32mraise\u001b[0m \u001b[0mCalledProcessError\u001b[0m\u001b[0;34m(\u001b[0m\u001b[0mretcode\u001b[0m\u001b[0;34m,\u001b[0m \u001b[0mcmd\u001b[0m\u001b[0;34m)\u001b[0m\u001b[0;34m\u001b[0m\u001b[0;34m\u001b[0m\u001b[0m\n\u001b[0m\u001b[1;32m    364\u001b[0m     \u001b[0;32mreturn\u001b[0m \u001b[0;36m0\u001b[0m\u001b[0;34m\u001b[0m\u001b[0;34m\u001b[0m\u001b[0m\n\u001b[1;32m    365\u001b[0m \u001b[0;34m\u001b[0m\u001b[0m\n",
            "\u001b[0;31mCalledProcessError\u001b[0m: Command '['/root/miniconda/bin/conda', 'install', '--yes', '-c', 'rdkit', 'python==3.7.11', 'rdkit']' returned non-zero exit status 1."
          ]
        }
      ]
    },
    {
      "cell_type": "code",
      "metadata": {
        "id": "fK7j8QKxgYkz",
        "colab": {
          "base_uri": "https://localhost:8080/",
          "height": 417
        },
        "outputId": "d936f9e2-ebd3-4332-b99f-2aa3a06b1c12"
      },
      "source": [
        "sys.path.append('/usr/local/lib/python3.7/site-packages/')\n",
        "\n",
        "try:\n",
        "  from rdkit import Chem\n",
        "  from rdkit.Chem.Draw import IPythonConsole\n",
        "except ImportError:\n",
        "  print('Stopping RUNTIME. Colaboratory will restart automatically. Please run cell again.')\n",
        "  exit()\n",
        "\n",
        "from rdkit import Chem\n",
        "from rdkit.Chem import AllChem\n",
        "from rdkit.Chem import AllChem, MACCSkeys, rdFMCS\n",
        "\n",
        "from rdkit.Chem import Descriptors,Draw\n",
        "\n",
        "from rdkit.Chem.Draw import IPythonConsole\n",
        "from rdkit.Chem.Scaffolds import MurckoScaffold\n",
        "from rdkit import DataStructs\n",
        "from rdkit.Chem.Fingerprints import FingerprintMols"
      ],
      "execution_count": null,
      "outputs": [
        {
          "output_type": "stream",
          "text": [
            "Stopping RUNTIME. Colaboratory will restart automatically. Please run cell again.\n"
          ],
          "name": "stdout"
        },
        {
          "output_type": "error",
          "ename": "ModuleNotFoundError",
          "evalue": "ignored",
          "traceback": [
            "\u001b[0;31m---------------------------------------------------------------------------\u001b[0m",
            "\u001b[0;31mModuleNotFoundError\u001b[0m                       Traceback (most recent call last)",
            "\u001b[0;32m<ipython-input-3-d92b019acd9a>\u001b[0m in \u001b[0;36m<module>\u001b[0;34m()\u001b[0m\n\u001b[1;32m      8\u001b[0m   \u001b[0mexit\u001b[0m\u001b[0;34m(\u001b[0m\u001b[0;34m)\u001b[0m\u001b[0;34m\u001b[0m\u001b[0;34m\u001b[0m\u001b[0m\n\u001b[1;32m      9\u001b[0m \u001b[0;34m\u001b[0m\u001b[0m\n\u001b[0;32m---> 10\u001b[0;31m \u001b[0;32mfrom\u001b[0m \u001b[0mrdkit\u001b[0m \u001b[0;32mimport\u001b[0m \u001b[0mChem\u001b[0m\u001b[0;34m\u001b[0m\u001b[0;34m\u001b[0m\u001b[0m\n\u001b[0m\u001b[1;32m     11\u001b[0m \u001b[0;32mfrom\u001b[0m \u001b[0mrdkit\u001b[0m\u001b[0;34m.\u001b[0m\u001b[0mChem\u001b[0m \u001b[0;32mimport\u001b[0m \u001b[0mAllChem\u001b[0m\u001b[0;34m\u001b[0m\u001b[0;34m\u001b[0m\u001b[0m\n\u001b[1;32m     12\u001b[0m \u001b[0;32mfrom\u001b[0m \u001b[0mrdkit\u001b[0m\u001b[0;34m.\u001b[0m\u001b[0mChem\u001b[0m \u001b[0;32mimport\u001b[0m \u001b[0mAllChem\u001b[0m\u001b[0;34m,\u001b[0m \u001b[0mMACCSkeys\u001b[0m\u001b[0;34m,\u001b[0m \u001b[0mrdFMCS\u001b[0m\u001b[0;34m\u001b[0m\u001b[0;34m\u001b[0m\u001b[0m\n",
            "\u001b[0;31mModuleNotFoundError\u001b[0m: No module named 'rdkit'",
            "",
            "\u001b[0;31m---------------------------------------------------------------------------\u001b[0;32m\nNOTE: If your import is failing due to a missing package, you can\nmanually install dependencies using either !pip or !apt.\n\nTo view examples of installing some common dependencies, click the\n\"Open Examples\" button below.\n\u001b[0;31m---------------------------------------------------------------------------\u001b[0m\n"
          ]
        }
      ]
    },
    {
      "cell_type": "code",
      "metadata": {
        "id": "38YDON7Uggxk"
      },
      "source": [
        "# Utilities\n",
        "import json\n",
        "from collections import OrderedDict\n",
        "from tqdm.autonotebook import tqdm\n",
        "\n",
        "# Scientific python\n",
        "import matplotlib.pyplot as plt\n",
        "import numpy as np\n",
        "import pandas as pd\n",
        "\n",
        "from collections import Counter\n",
        "\n",
        "\n",
        "import re"
      ],
      "execution_count": null,
      "outputs": []
    },
    {
      "cell_type": "markdown",
      "metadata": {
        "id": "wRiyVmfxgnso"
      },
      "source": [
        "#Mount Drive\n"
      ]
    },
    {
      "cell_type": "code",
      "metadata": {
        "colab": {
          "base_uri": "https://localhost:8080/"
        },
        "id": "bT8adn6sgrWE",
        "outputId": "1b55d49e-929d-4bbe-cb1e-52e4478aa14b"
      },
      "source": [
        "from google.colab import drive\n",
        "drive.mount(\"/content/drive\")\n",
        "!ls #To double check if it has been properly mounted"
      ],
      "execution_count": null,
      "outputs": [
        {
          "output_type": "stream",
          "text": [
            "Mounted at /content/drive\n",
            "drive  sample_data\n"
          ],
          "name": "stdout"
        }
      ]
    },
    {
      "cell_type": "markdown",
      "metadata": {
        "id": "BTjAP9Wcg0OC"
      },
      "source": [
        "#Access Data"
      ]
    },
    {
      "cell_type": "code",
      "metadata": {
        "id": "I0ebN-D-gz5e"
      },
      "source": [
        "################## TO CALL THE DATASET REQUIRED\n",
        "\n",
        "def link(db_type,num,lst1):\n",
        "\n",
        "  #lst1 = ['carcinogenicity','fish_acute_toxicity','mutagenicity','octanol-water_partition']\n",
        "  car_lst = ['antares/dataset_CARC_ANTARES.txt','caesar/dataset_CARC_CAESAR.txt','iss/dataset_CARC_ISS.txt','isscan-cgx/dataset_CARC_ISSCAN-CGX.txt','Cancer3D_New.xlsx']\n",
        "  fat_lst = ['epa/dataset_FATHEAD_EPA.txt','knn/dataset_FISH_KNN.txt','nic/dataset_FISH_NIC.txt'] #,'irfmn/dataset_FISH_IRFMN.txt'\n",
        "  muta_lst = ['SARPY/dataset_MUTA_SARPY.txt','KNN/dataset_MUTA_KNN.txt','ISS/dataset_MUTA_ISS.txt','CAESAR/dataset_MUTA_CAESAR.txt']\n",
        "  oct_lst = ['mlogp/dataset_LOGP_MLOGP.txt','meylan/dataset_LOGP_MEYLAN.txt','alogp/dataset_LOGP_ALOGP.txt']\n",
        "  path =''\n",
        "  if db_type == 0:\n",
        "    if num in range (0,len(car_lst)):path =  lst1[0] +'/'+car_lst[num]\n",
        "  elif db_type == 1:\n",
        "    if num in range (0,len(fat_lst)):path =  lst1[1] +'/'+fat_lst[num]\n",
        "  elif db_type == 2:\n",
        "    if num in range (0,len(muta_lst)):path =  lst1[2] +'/'+muta_lst[num]\n",
        "  elif db_type == 3:\n",
        "    if num in range (0,len(oct_lst)):path =  lst1[3] +'/'+oct_lst[num]\n",
        "  else:\n",
        "    print('Invalid data base type')\n",
        "\n",
        "  if not path:\n",
        "    return 'Path is empty'\n",
        "  else:\n",
        "    return '/content/drive/My Drive/GNNs/Property_databases/' + path\n",
        "\n",
        "#, names=('Id','Name','CAS','SMILES', 'Status','Experimental value')\n",
        "########## STRUCTURING DATA\n",
        "\n",
        "def restructDB(db_type,num,lst1):\n",
        "  path = link(db_type,num,lst1)\n",
        "# Initialise dataframe\n",
        "\n",
        "  if db_type == 0 and num==4:\n",
        "\n",
        "    df = pd.read_excel(path)\n",
        "    df['SMILES'] = df['SMILES'].str.replace(' ','')\n",
        "    df['SMILES'] = df['SMILES'].str.replace('\\n','')\n",
        "    df['mol'] = df.iloc[1:]['SMILES'].apply(Chem.MolFromSmiles)\n",
        "    df = df[~df['mol'].isna()]\n",
        "  else:\n",
        "    df = pd.read_table(path, names=('Id','CAS','SMILES', 'Status','Experimental value', 'Predicted value'))\n",
        "  # Fill 'mol' column with 'smiles' to 'mol' dat\n",
        "    df['mol'] = df.iloc[1:]['SMILES'].apply(Chem.MolFromSmiles)\n",
        "              \n",
        "  # Remove 'None' values present in the data\n",
        "  df1 = df.mask(df.astype(object).eq('None')).dropna()\n",
        "  df1 = df1.reset_index(drop=True) \n",
        "  df1['Id'] = [i for i in df1.axes[0]]\n",
        "      \n",
        "  # Fill 'Molecular Weight' column. Might come in use during molecular weight splits.\n",
        "  mol_wt = 'Molecular Weight'\n",
        "  df1[mol_wt] = df1.iloc[0:]['mol'].apply(Descriptors.MolWt)\n",
        "\n",
        "  return df1\n"
      ],
      "execution_count": null,
      "outputs": []
    },
    {
      "cell_type": "code",
      "metadata": {
        "id": "rdXcjYxOg6Ux"
      },
      "source": [
        "def generateIndices(df,Status):\n",
        "\n",
        "  idx_data = np.where(df['Status']==Status)\n",
        "  # Unravel the tuple\n",
        "  d_list = [ a for (a)  in idx_data] # List with array\n",
        "  # Convert to list\n",
        "  idx_list = list(d_list[0])\n",
        "\n",
        "  new_df = df.loc[df.index.isin(idx_list)]\n",
        "  y_data = new_df['Experimental value'].values.reshape(-1,1)\n",
        "\n",
        "  return idx_list,new_df,y_data"
      ],
      "execution_count": null,
      "outputs": []
    },
    {
      "cell_type": "code",
      "metadata": {
        "id": "_dRhxynKg8rD"
      },
      "source": [
        "''' \n",
        "restructDB ( a , b , c )\n",
        "\n",
        "a  = index of list 'ehsProp' [0-3]\n",
        "b  = type of data base [0-3,0-3,0-3,0-2]\n",
        "c  = ehs property list\n",
        "\n",
        "'''\n",
        "\n",
        "ehsProp = ['carcinogenicity','fish_acute_toxicity','mutagenicity','octanol-water_partition']\n",
        "#[0,1]#carc,[2,0]#muta_sarpy,[1,0],[1,2]\n",
        "df = restructDB(0,0,ehsProp)\n",
        "#df['Predicted value'] = df['Predicted value'].fillna(0)\n",
        "df.head(5)\n",
        "\n",
        "\n",
        "Status = ['Training','Test']\n",
        "train_idx,train_df,y_train = generateIndices(df,Status[0])\n",
        "test_idx,test_df,y_test = generateIndices(df,Status[1])\n",
        "\n",
        "#print(link(3,1,ehsProp))\n",
        "print((df[df['Experimental value']==1]).count()[0]) \n",
        "print((df[df['Experimental value']==0]).count()[0])  #816\n",
        "print(len(df.index))\n",
        "\n",
        "print('********************')\n",
        "\n",
        "\n",
        "print('Train total points : ', len(train_idx))\n",
        "print('Test points        : ', len(test_idx))"
      ],
      "execution_count": null,
      "outputs": []
    },
    {
      "cell_type": "markdown",
      "metadata": {
        "id": "8g9LRWXf5yzV"
      },
      "source": [
        "#Carcinogenicity Indicators\n"
      ]
    },
    {
      "cell_type": "code",
      "metadata": {
        "id": "ek_WcARD5kpQ"
      },
      "source": [
        "raw_string_car = [\"SA 1: CN[N+]=O SA 2: NNC=O SA 3:CN(C=O)N=O SA 4: CCCCCCN(C)N=O SA 5:\",\n",
        "\"CCCN(CCC)N=O SA 6: CNCCNN=O SA 7: CNCCN(C)N=O SA 8: CCNN=O SA 9:\",\n",
        "\"CCCCCN(C)N=O SA 10: CCCCN(C)N=O SA 11: CC(O)CNN=O SA 12: CN(N=O)C(=O)NCCO SA 13:\", \n",
        "\"NC(=O)N(CCO)N=O SA 14: CN(N=O)C(N)=O SA 15: CCCNN=O SA 16: O(c1ccccc1)c2ccccc2 SA 17:\",\n",
        "\"COc1cccc(O)c1 SA 18: CCc1ccc(OC)cc1O SA 19: CCCNCNN=O SA 20: CCOC(=O)C(C)(C)O SA 21:\",\n",
        "\"CC(C)(O)C(O)=O SA 22: Cc1ccccc1-c2ccc(N)cc2 SA 23: Nc1ccc(cc1)-c2ccc(N)cc2 SA 24:\",\n",
        "\"Nc1ccc(cc1)-c2ccccc2 SA 25: Nc1ccc(C=C)cc1 SA 26: Nc1cccc(c1)-c2ccccc2 SA 27:\",#4 after 25\n",
        "\"Cc1ccc(N)c(C)c1 SA 28: Cc1ccccc1N SA 29: Nc1ccc(Cc2ccc(N)cc2)cc1 SA 30: CN(C)c1ccc(Cc2ccccc2)cc1 SA 31:\", \n",
        "\"Cc1ccc(N)cc1 SA 32: Cc1ccc(NO)cc1 SA 33: Cc1cccc(N)c1 SA 34: CNc1ccc(C=C)cc1 SA 35: Nc1ccc2ccccc2c1 SA 36:\",\n",
        "\"CNc1ccc(N)cc1 SA 37: Nc1ccccc1O SA 38: COc1ccccc1N SA 39: Oc1cccc2ccccc12 SA 40: Nc1ccc(O)c(N)c1 SA 41:\",\n",
        "\"CC(C)C(C)(O)CO SA 42: Nc1cccc(c1)S(O)(=O)=O SA 43: Cc1cccc2ccccc12 SA 44: NNCO SA 45: CN(N)CO SA 46:\",\n",
        "\"CC(O)CNN SA 47: NNCCO SA 48: NNc1ccccc1 SA 49: NNCC=C SA 50: CCNN SA 51: CCCNN SA 52: CC(=O)NN SA 53:\",\n",
        "\"CCCN(N)CCC SA 54: CCCN(C)N SA 55: NN SA 56: ClCCCl SA 57: CCl SA 58: CCBr SA 59: CBr SA 60:\"\n",
        "\"c1ccc2cc3c(ccc4ccccc34)cc2c1 SA 61: c1ccc-2c(c1)-c3cccc4cccc-2c34 SA 62: CN=O SA 63: N=O SA 64:\"\n",
        "\"NO SA 65: Oc1cccc(c1)-c2cccc(O)c2 SA 66: OS(O)(=O)=O SA 67: COS(O)=O SA 68: COS(=O)=O SA 69:\"\n",
        "\"ClC1CCCC(Cl)C1Cl SA 70: CC(Cl)CCCCCl SA 71: c1ccc(cc1)N=Nc2ccccc2 SA 72: CCNCCCl 5 SA 73:\"\n",
        "\"ClCCNCCCl SA 74: Cc1ccncn1 SA 75: c1cncnc1 SA 76: CC(=C)C(O)=O SA 77: CC=C(C)CO SA 78: CC(C)=NO SA 79:\"\n",
        "\"CC(C)=N SA 80: Cn1cncn1 SA 81: c1ncnn1 SA 82: COc1ccc(CC=C)cc1 SA 83: Nc1ncc2ncn(CCCCO)c2n1 SA 84:\"\n",
        "\"OCC1OC(CC1O)n2cnc3cncnc23 SA 85: CC1CCC=C(C)C1 SA 86: C1C=CCC=C1 SA 87: O=C(OCc1ccccc1)c2ccccc2 SA 88:\"\n",
        "\"CCOCc1ccccc1C SA 89: C(=Cc1ccccc1)c2ccccc2 SA 90: [O-][N+](=O)c1ccco1 SA 91: CCNCC(C)=O SA 92: N=[N+] SA 93:\"\n",
        "\"Cc1ccc(cc1)S(O)(=O)=O SA 94: O=C1c2ccccc2C(=O)c3ccccc13 SA 95: Cc1cccnc1 SA 96: CCCCC(O)CCCCC(O)CCC SA 97:\"\n",
        "\"Clc1cccc(Cl)c1Cl SA 98: COP=O SA 99: CC(CN)c1ccccc1 SA 100: OCC#C SA 101: NNCc1ccccc1 SA 102:\"\n",
        "\"C1CCc2ccccc2C1 SA 103: c1ccsc1 SA 104:Nc1ccccn1 SA 105: C1CO1 SA 106: CC(O)CCCC=O SA 107: C[S]=O SA 108:\"\n",
        "\"c1cscn1 SA 109: CC1COCO1 SA 110: Nc1ccc([S]c2ccccc2)cc1 SA 111: Cc1ccc(cc1)C(N)=O SA 112: CN(C)P(N(C)C)N(C)C SA 113:\"\n",
        "\"[N+]c1cncn1 SA 114: O=C1CCO1 SA 115: OCCNCC=C SA 116: CCNCCCC(C)C SA 117: c1ccoc1 SA 118: CCOC(N)=O SA 119:\"\n",
        "\"C=CCCCCC=O6 SA 120: C1CN1 SA 121: c1cc2ccccc2s1 SA 122: Cc1ncc[nH]1 SA 123: [O-][N+](=O)c1ccc(o1)-c2cscn2 SA 124:\"\n",
        "\"C#C SA 125: CCF SA 126: CN=[N+] SA 127: CCCN=CN\"]\n",
        "\n",
        "def str_corr_list(raw_str_m,pattern):\n",
        "  raw_str = ' '.join(raw_str_m)\n",
        "  splt_str = raw_str.split(pattern)[1::]\n",
        "\n",
        "  # Remove numbers\n",
        "  match = [re.match(r\"([0-9]+)\", i, re.I) for i in splt_str]\n",
        "  items = [mat.groups() for mat in match if match]\n",
        "  \n",
        "  new_lst = []\n",
        "  for i,strn in zip(items,splt_str):\n",
        "    a = strn.replace(i[0], \"\")\n",
        "    b = a.replace(\": \", \"\")\n",
        "    c = b.replace(\" \", \"\")\n",
        "    new_lst.append(c)\n",
        " \n",
        "  return new_lst\n",
        "Car_lst = str_corr_list(raw_string_car,'SA ')\n",
        "print(Car_lst)\n",
        "def canonicalS(lst):\n",
        "  c_smiles = []\n",
        "  non_c_Smiles = []\n",
        "  for ds in lst:\n",
        "    try:\n",
        "        cs = Chem.CanonSmiles(ds)\n",
        "        c_smiles.append(cs)\n",
        "    except:\n",
        "        #print('Invalid SMILES:', ds)\n",
        "        non_c_Smiles.append(ds)\n",
        "        \n",
        "  return c_smiles,non_c_Smiles\n",
        "\n",
        "#c_smiles,non_c_Smiles = canonicalS(Car_lst_n)\n",
        "\n",
        "def checkIfDuplicates_1(listOfElems):\n",
        "    ''' Check if given list contains any duplicates '''\n",
        "    if len(listOfElems) == len(set(listOfElems)):\n",
        "        return False\n",
        "    else:\n",
        "        return True\n",
        "\n",
        "checkIfDuplicates_1(c_smiles)\n",
        "checkIfDuplicates_1(non_c_Smiles)"
      ],
      "execution_count": null,
      "outputs": []
    },
    {
      "cell_type": "code",
      "metadata": {
        "id": "J2Og_czb6a2s"
      },
      "source": [
        "Car_lst_n = [s.replace(':', '') for s in Car_lst]"
      ],
      "execution_count": null,
      "outputs": []
    },
    {
      "cell_type": "code",
      "metadata": {
        "id": "27sgiqcZ3oxP"
      },
      "source": [
        "raw_str = ' '.join(raw_string_car)\n",
        "splt_str = raw_str.split(pattern)[1::]\n",
        "\n",
        "# Remove numbers\n",
        "match = [re.match(r\"([0-9]+)\", i, re.I) for i in splt_str]\n",
        "items = [mat.groups() for mat in match if match]\n",
        "\n",
        "new_lst = []\n",
        "for i,strn in zip(items,splt_str):\n",
        "  a = strn.replace(i[0], \"\")\n",
        "  b = a.replace(\": \", \"\")\n",
        "  c = b.replace(\" \", \"\")\n",
        "  new_lst.append(c)"
      ],
      "execution_count": null,
      "outputs": []
    },
    {
      "cell_type": "markdown",
      "metadata": {
        "id": "yE1h-qjghr4O"
      },
      "source": [
        "#Mutagenicity Indicators"
      ]
    },
    {
      "cell_type": "code",
      "metadata": {
        "id": "sEzKOMGLiSyh"
      },
      "source": [
        "raw_str_muta = [\"SM 1: O=[N+]([O-])c1ccc2ccccc2c1 SM 2: O=NN(C)C SM 3: n1ccc(N)c2ccc(cc12) SM 4: c1oc(cc1)[N+](=O)[O-] SM 5:\",\n",
        "\"O=[N+]([O-])c1ccc(c2ccccc2)c(c1) SM 6: Nc4ccc(N)cc4N SM 7:\",\n",
        "\"C1C=Cc2ccccc2C1 SM 8: N1CC1 SM 9: c1cc([N+](=O)[O-])sc1 SM 10:\",\n",
        "\"n1ccnc2c1ccc(N)c2 SM 11: c1ccc2c(c1)cc3ccc(cc3c2)C SM 12: Nc1c(ncn1) SM 13:\",\n",
        "\"n1cc(nc2ccc3c(ncn3C)c12) SM 14: O(c1ccccc1)CC2OC2 SM 15: O=C1c2ccccc2C(=O)c3c(O)ccc(O)c13 SM 16: N(O)c1ccc(C=C)cc1 SM 17:\",\n",
        "\"c1ccc2ccc3ccc(cc3c2c1)N SM 18: O(Cc1cccc2ccccc12)C SM 19:\",\n",
        "\"O=C(c1ccc(cc1)NO) SM 20: O=C(c1ccccc1)Cl SM 21: C1=Cc2cccc3cccc1c23 SM 22:\",\n",
        "\"O1CC1CCc2ccc(cc2) SM 23: C(O)C=CCl SM 24: OCC(CBr) SM 25: [N-]=[N+] SM 26:\",\n",
        "\"n1c2ccc(cc2c(cc1))C SM 27: O=CC1(OC1)C SM 28: n1cccc2c1ccc3c2ncn3 SM 29:\",\n",
        "\"c2nc3C(=O)C=CC(=O)c3cc2 SM 30: O=Nc1ccc(OC)cc1 SM 31: SC(=CCl)Cl SM 32:\",\n",
        "\"O=C1c2cccc(N)c2C(=O)c3ccccc13 SM 33: Nc1ccc2c(c1)c3ccccc3n2 SM 34:\",\n",
        "\"Oc1ccc2ccc3ccc(cc3c2c1) SM 35: C(c1ccccc1)COC=C SM 36:\",\n",
        "\"c1cc2cccc3c4cc(ccc4c(c1)c23) SM 37: N(O)c1ccc(Oc2ccccc2)cc1 SM 38:\",\n",
        "\"c1ccc2c(c1)c3ccccc3n2 SM 39: O(Cc1cccc2ccccc12) SM 40:\",\n",
        "\"c1ccc2c3ccccc3CCc2c1 SM 41: n1cc2ccccc2s1 SM 42: P(=O)(N)N(C)CC SM 43:\",\n",
        "\"C(N)Cl SM 44: c1ccc(C=Cc2ccc(N)cc2)cc1 SM 45: c1cc(ccc1NCCCl) SM 46:\",\n",
        "\"N(c1ccc(N=Nc2ccccc2)cc1)C SM 47: O=C(NCc1ccccc1)C SM 48:\",\n",
        "\"c1cc2ccc3cccc4ccc(c1)c2c34 SM 49: Nc1cccc(c1)c2ccccc2 SM 50:\",\n",
        "\"O=[N+]([O-])c1cccc2cccc(c12) SM 51: O=C(Nc1ccc(cc1)c2ccccc2) SM 52:\",\n",
        "\"O=Cc1cccc(c1)[N+] SM 53: O=[N+]([O-])c1cc(N)c(c(N)c1) SM 54:\",\n",
        "\"c1ccc(Oc2ccc(N)cc2)cc1 SM 55: COC=CC=CC SM 56: N(=N)NC SM 57:\",\n",
        "\"ONc1ccc(cc1)S SM 58: O1CC1Cc2ccc(cc2) SM 59: O=C(c1ccccc1O)c2ccccc2 SM 60:\", \n",
        "\"Nc1ccc(cc1)c2ccccc2 SM 61: c1ccc2c(c1)ccc3c2cc4ccccc4c3 SM 62:\",\n",
        "\"c1ccc2c(c1)cc3ccc(cc3c2C) SM 63: c1ccc2c(ccc3c4ccccc4ccc23)c1 SM 64:\",\n",
        "\"c1c2ccccc2nc3ccccc13 SM 65: O=CC=C(C(=O)c1ccccc1) SM 66: n1cc(cc2c1ncn2) SM 67:\",\n",
        "\"Nc1nccn1C SM 68: C1C(C=C(C))C1(C)C SM 69: Nc1ccc(cc1)[N+](=O)[O-] SM 70:\", \n",
        "\"Nc1ccc(cc1N) SM 71: N=CC=C SM 72: O=[N+]([O-])c1ccc(cc1)CO SM 73:\",\n",
        "\"CCNCCCl SM 74: O=S(=O)(OCC) SM 75: c1ccc2c3ccccc3Cc2c1 SM 76:\",\n",
        "\"c1c2ccccc2n(c1)C SM 77: C(CBr)Br SM 78: Nc1ccccc1F SM 79:\",\n",
        "\"c1ccc(N)c(c1N)C SM 80: c1ccc2c(c1)ccc3cc(ccc23) SM 81:\",\n",
        "\"c1ccc2c(c1)cc3ccccc3c2 SM 82: c1ccc2ccccc2c1C SM 83:\",\n",
        "\"Nc1ccc(cc1)Cc2ccccc2 SM 84: Oc1ccc2Cc3ccccc3Oc2c1 SM 85: C(Cl)(Cl)Cl SM 86:\",\n",
        "\"O(c1ccccc1N)C SM 87: NN(c1ccccc1) SM 88: n1c(N)n(c2ccccc12) SM 89:\",\n",
        "\"O=C(N(O))C SM 90: n1ccnc2c1cccc2 SM 91: c1cc(c(N)cc1N)C SM 92:\",\n",
        "\"OCC1OC1 SM 93: C(C)Br SM 94: C(OCC)N SM 95: Nc1cccc(N)c1 SM 96: c1c(nn(c1)) SM 97:\", \n",
        "\"C1OC1 SM 98: C(O)N SM 99: c1ccc2cccnc2c1 SM 100: N=NC SM 101:\",\n",
        "\"O=CC(=C)Cl SM 102: n1cnc2c(ncn2)c1N SM 103: NNCC SM 104: Cc2ccc(N)cc2 SM 105:\", \n",
        "\"Nc1ccc(N)cc1 SM 106: CCCl SM 107: C=NN1N=Nc2c([nH]c3ccccc23)C1=O SM 108:\", \n",
        "\"NC([N+]) SM 109: n1c2ccc(cc2[s+]c3cc(N)c(cc13))N SM 110:\",\n",
        "\"O=Nn1cc(c2ccccc12)CC SM 111: O=CC(=CC)C=CC SM 112: O=C1OCC\"]\n",
        "\n",
        "raw_str_nonmuta = [\"SM 113: C(O)CCCCCCCC=CCC SM 114: CCOc1ccc(Cl)cc1 SM 115:\",\n",
        "\"C(NC(C(=O))C)C(NC) SM 116: c1(c(ccc(c1)CCCCCC))O SM 117:\",\n",
        "\"c1c(c(C(C)(C)C)cc(c1)C) SM 118: c1(c(C(=O)O)cccc1)C(=O) SM 119:\",\n",
        "\"S(=O)(=O)(N)c1ccc(N)cc1 SM 120: n1c(nc(nc1)) SM 121: C(=O)(C(CCC(=O)O))O SM 122:\",\n",
        "\"CCOCCOCCOCCO SM 123: CC(=O)OCC(CC)CCCC SM 124: P(O)OCCCCC SM 125:\", \n",
        "\"N(c1ccccc1)CCCNC SM 126: c1(C(=O)OC)c(N)cccc1 SM 127:\",\n",
        "\"C(C)(Oc1ccccc1)(C)C SM 128: N(CCO)(CCCC)C SM 129: C(=C)CCCl SM 130:\",\n",
        "\"C(=O)(C(=C)C)OCCCCC SM 131: Oc1ccc2C=C(COc2c1)c3ccccc3 SM 132:\",\n",
        "\"c1(nc2c(o1)cccc2)c3ccccc3 SM 133: c1(c(c(cc(c1)))O)c2c(c(cc(c2)))O SM 134:\",\n",
        "\"n1c(cc(c2c1cccc2))CO SM 135: c1c(c(ccc1C(O)CNC)O) SM 136:\",\n",
        "\"O(C(=O))C(=O) SM 137: C(=O)(CCC(=O)O) SM 138: S(=O)(=O)(c1ccccc1)N SM 139:\", \n",
        "\"c1c(c(cc(c1Cl)Cl)Cl) SM 140: C(C=C)(CCC=C) SM 141: c1(CCCCCC)ccccc1 SM 142:\", \n",
        "\"N(C)(CCCC)CCCC SM 143: C(=O)(O)CCCCCCCC SM 144:\",\n",
        "\"C(=O)(N(c1ccccc1))N SM 145: C1(C(CCC(C1)C)C)O SM 146: c1(C(=O)OCC)ccccc1 SM 147:\", \n",
        "\"c1c(C(F)(F)F)cccc1 SM 148: C(=O)CS SM 149:\",\n",
        "\"O(c1ccccc1)CC(CNC(C))O SM 150: C(F)(F)C SM 151: c1cc(c(c(c1)Br)O) SM 152:\", \n",
        "\"c1(Br)ccc(cc1)C SM 153: SCCCC SM 154: C(=O)CC(=O)C SM 155:\",\n",
        "\"N(CCO)(CCO)C SM 156: C(=O)N(C)CCC SM 157: CCCCCCCCCCCC SM 158:\",\n",
        "\"c1(c(ccc(c1)C=CC)O) SM 159: c1cc(c(cc1)Cl)Cl SM 160: C=CC=C(CCC)C SM 161:\", \n",
        "\"c1ccc(NC(C)C)cc1 SM 162: C1CC(CC(C1))(C)C SM 163: CCCCCCC SM 164:\",\n",
        "\"C(C(OC)(C)C) SM 165: N#CCC SM 166: C(=C(CC)O) SM 167: CN1CN=CC=C1 SM 168:\",\n",
        "\"S(=O)(=O)c1ccc(N)cc1 SM 169: CC(CC)CCC SM 170: C(=O)(c1ccccc1)OC SM 171:\", \n",
        "\"c1(F)ccc(cc1)C SM 172: C(=Cc1ccccc1)C(=O)c2ccccc2 SM 173:\",\n",
        "\"[nH]1cc(c2c1cccc2)CC SM 174: P(=S)(OCC)OC SM 175: [N+](C)(C)C SM 176:\",\n",
        "\"OCCN(C)C SM 177: C(=O)CCCCC SM 178: C(=O)(CC(C))OCC SM 179: CC#N SM 180:\",\n",
        "\"C(=C(CC)C)C=O SM 181: O=C1NC=NC=C1 SM 182: CCCC(C)C SM 183:\",\n",
        "\"c1(cc(ccc1)Cl)Cl SM 184: c12c(cc(cc2)O)ccc(S)c1 SM 185: PC SM 186:\",\n",
        "\"OCC(CO)(C)C SM 187: OC(=O)C(=C)C SM 188: C(=O)(C)OCCCC SM 189:\",\n",
        "\"c1(C(=O)O)c(ccc(c1))O SM 190: c1(c(Cl)cccc1)C SM 191: Cc1cc(c(cc1)OC)OC SM 192:\", \n",
        "\"C#N SM 193: Cc1ccc(Cl)cc1 SM 194: Nc1ccc2C=CCOc2c1 SM 195:\",\n",
        "\"C(=O)(O)Cc1ccccc1 SM 196: c1(cc(ccc1CCC)O)O SM 197: N(c1ccccc1)c2ccccc2 SM 198:\",\n",
        "\"C=NO SM 199: C(=S)(N) SM 200: c1(CC)cc(OC)ccc1 SM 201:\",\n",
        "\"c1(nc2c(s1)cccc2) SM 202: OCCOCCO SM 203: N(C)(CCN)c1ccccc1 SM 204:\",\n",
        "\"[N+]([O-])CC SM 205: S(=O)(=O)(c1cc(c(cc1))N)\"]"
      ],
      "execution_count": null,
      "outputs": []
    },
    {
      "cell_type": "markdown",
      "metadata": {
        "id": "NmFsVDVwi74v"
      },
      "source": [
        "If you want to kekulize incorrect smiles.\n",
        "- Muta strings\n"
      ]
    },
    {
      "cell_type": "markdown",
      "metadata": {
        "id": "bnvNS-JPqsrJ"
      },
      "source": [
        "# Convert to Canonical SMILES & Kekulize"
      ]
    },
    {
      "cell_type": "code",
      "metadata": {
        "id": "lbW0DY__qrlE"
      },
      "source": [
        "def str_corr(raw_str_muta):\n",
        "  raw_str = ' '.join(raw_str_muta)\n",
        "  s = raw_str.split(': ')\n",
        "  mut_sarpy_lst = []\n",
        "\n",
        "  for i in s[1:len(s)-1]:\n",
        "    a = i.split('SM ')#' SM'\n",
        "    mut_sarpy_lst.append(a[0])\n",
        "\n",
        "  mut_sarpy_lst.append(s[len(s)-1])\n",
        "  return mut_sarpy_lst\n",
        "\n",
        "def str_corr_list(raw_str,pattern):\n",
        "  raw_str = ' '.join(raw_str_muta)\n",
        "  splt_str = raw_str.split(pattern)[1::]\n",
        "\n",
        "  # Remove numbers\n",
        "  match = [re.match(r\"([0-9]+)\", i, re.I) for i in splt_str]\n",
        "  items = [mat.groups() for mat in match if match]\n",
        "  \n",
        "  new_lst = []\n",
        "  for i,strn in zip(items,splt_str):\n",
        "    a = strn.replace(i[0], \"\")\n",
        "    b = a.replace(\": \", \"\")\n",
        "    c = b.replace(\" \", \"\")\n",
        "    new_lst.append(c)\n",
        " \n",
        "  return new_lst\n",
        "\n",
        "def canonicalS(lst):\n",
        "  c_smiles = []\n",
        "  non_c_Smiles = []\n",
        "  for ds in lst:\n",
        "    try:\n",
        "        cs = Chem.CanonSmiles(ds)\n",
        "        c_smiles.append(cs)\n",
        "    except:\n",
        "        #print('Invalid SMILES:', ds)\n",
        "        non_c_Smiles.append(ds)\n",
        "        \n",
        "  return c_smiles,non_c_Smiles\n",
        "\n",
        "\n",
        "def checkIfDuplicates_1(listOfElems):\n",
        "    ''' Check if given list contains any duplicates '''\n",
        "    if len(listOfElems) == len(set(listOfElems)):\n",
        "        return False\n",
        "    else:\n",
        "        return True"
      ],
      "execution_count": null,
      "outputs": []
    },
    {
      "cell_type": "markdown",
      "metadata": {
        "id": "EhVcTkxznZ3H"
      },
      "source": [
        "#Pattern Match"
      ]
    },
    {
      "cell_type": "code",
      "metadata": {
        "id": "MjXvp_3TnTLX"
      },
      "source": [
        "def search_structure(pattern,s_lst):\n",
        "\n",
        "    pat_mat = []\n",
        "# For all strings in database it check whether there is a pattern match for a particular fragement\n",
        "    for smiles in s_lst:\n",
        "        m = Chem.MolFromSmiles(smiles)\n",
        "        pat_mat.append(m.HasSubstructMatch(pattern))\n",
        "\n",
        "    return pat_mat\n",
        "\n",
        "def list_indices(database_muta,rules_m,search):\n",
        "  try:   \n",
        "    list_t = [search(Chem.MolFromSmiles(i),database_muta) for i in rules_m]\n",
        "  except: #Exception as e:\n",
        "    #print(e)\n",
        "    list_t = [search(Chem.MolFromSmarts(i),database_muta) for i in rules_m]\n",
        "  list_Sum = [sum(i) for i in list_t] # Each rule repeated that many time in the list\n",
        "  list_ind = [[i for i, x in enumerate(t) if x] for t in list_t]\n",
        "  return list_ind"
      ],
      "execution_count": null,
      "outputs": []
    },
    {
      "cell_type": "markdown",
      "metadata": {
        "id": "1PnacLIVnKjX"
      },
      "source": [
        "# Procedure"
      ]
    },
    {
      "cell_type": "code",
      "metadata": {
        "id": "_uBh6melnPoX"
      },
      "source": [
        "############ Get SMILES from database #####\n",
        "\n",
        "Mut_list = df['SMILES'].to_list()\n",
        "#Mut_list = df['SMILES'][df['Id'].isin(a)]\n",
        "###########################################\n",
        "##### Process rules to a usable format#####\n",
        "###########################################\n",
        "\n",
        "#  [ input: list of raw strings , \n",
        "#    output: list of SMILES ]\n",
        "\n",
        "rules_muta = str_corr(raw_str_muta)      # For mutagenicity\n",
        "rules_nmuta = str_corr(raw_str_nonmuta)  # For non-mutagenicity\n",
        "\n",
        "\n",
        "########################################################\n",
        "##### Get Canonical SMILES and look for duplicates #####\n",
        "########################################################\n",
        "\n",
        "# [ input: list of raw strings or SMILES , \n",
        "#   output: list of canonical and non-canonical SMILES ]\n",
        "\n",
        "c_smiles_m,non_c_Smiles_m = canonicalS(rules_muta)\n",
        "c_smiles_nm,non_c_Smiles_nm = canonicalS(rules_nmuta)\n",
        "c_smiles_o,non_c_Smiles_o = canonicalS(Mut_list)\n",
        "\n",
        "\n",
        "# Look for duplicates. Expected to give \n",
        "\n",
        "check_dup = [checkIfDuplicates_1(c_smiles_m),checkIfDuplicates_1(non_c_Smiles_m),\n",
        "             checkIfDuplicates_1(c_smiles_nm),checkIfDuplicates_1(non_c_Smiles_nm)]\n",
        "\n",
        "# Kekulize the exceptions. Maybe there's no need for this. \n",
        "# But this helps to figure out which string has to be eliminated completely.\n",
        "\n",
        "# mol = [Chem.MolFromSmarts(i) for i in non_c_Smiles_m[0:len(non_c_Smiles_m)-2]]\n",
        "# keku_lst = [[1,2,3,4,5],[0,1, 2, 3, 4, 5, 6, 7, 8, 9, 10, 11, 12],[1, 2, 3, 4, 5, 6, 7, 8, 9, 10, 11, 12, 13],\n",
        "#             [0,1, 2, 3, 4, 5, 6, 7, 8, 9, 10, 11, 12],[0,1, 2, 3, 4, 5, 6, 7, 8],[0,1, 2, 3, 4, 5, 6, 7, 8, 9],[0,1, 2, 3, 4],[0,1, 2, 3, 4, 5, 6, 7, 8]]\n",
        "# x = [Chem.MolFragmentToSmiles(i,j ,kekuleSmiles=True) for i,j in zip(mol, keku_lst)]\n",
        "# for i in x:\n",
        "  \n",
        "#   Draw.MolToFile(Chem.MolFromSmarts(i), \"test1.png\")\n",
        "# kek_non_can_str = list(set(x))\n",
        "# kek_non_can_str\n",
        "\n",
        "\n",
        "\n",
        "########################################################\n",
        "##### Sub-structure Search and Data Extraction #########\n",
        "########################################################\n",
        "\n",
        "# [ input: [Canonical SMILEs_data base,\n",
        "#           Canonical SMILEs_rules, \n",
        "#           Pattern Search Function] , \n",
        "#   output: list of data base indices matched with each rule ]\n",
        "\n",
        "# For mutagenicity rules\n",
        "\n",
        "list_i_can = list_indices(c_smiles_o,c_smiles_m,search_structure)\n",
        "#list_i_n_can = list_indices(c_smiles_o,non_c_Smiles_m[0:len(non_c_Smiles_m)-1],search_structure)\n",
        "\n",
        "mut_y = c_smiles_m+non_c_Smiles_m[0:len(non_c_Smiles_m)-1] # Adding canonical rules and non.\n",
        "list_muta_y = list_i_can#+list_i_n_can # Adding indices list for thesame\n",
        "\n",
        "# For non-mutagenicity rules\n",
        "\n",
        "list_i_can_non_mut = list_indices(c_smiles_o,c_smiles_nm,search_structure)\n",
        "\n",
        "\n"
      ],
      "execution_count": null,
      "outputs": []
    },
    {
      "cell_type": "code",
      "metadata": {
        "colab": {
          "base_uri": "https://localhost:8080/"
        },
        "id": "379tmKizzdl8",
        "outputId": "993289fc-8b59-4789-86ad-90dd089c5b4a"
      },
      "source": [
        "\n",
        "\n",
        "print('No. of database ompounds    : ', len(Mut_list))\n",
        "print('Canonizable Compounds       : ', len(c_smiles_o))\n",
        "print('Non-Canonizable compounds   : ', len(non_c_Smiles_o ))\n",
        "\n",
        "\n",
        "print('*****************')\n",
        "\n",
        "print('Total no. of rules for muta      : ', len(rules_muta))\n",
        "print('Canonizable rules for muta       : ', len(c_smiles_m))\n",
        "print('Non-Canonizable rules for muta   : ', len(non_c_Smiles_m))\n",
        "#print('Rule removed from analysis       : 'O=C1OCC')\n",
        "\n",
        "print('*****************')\n",
        "\n",
        "print('Total no. of rules for NON-muta      : ', len(rules_muta))\n",
        "print('Canonizable rules for NON-muta       : ', len(c_smiles_nm))\n",
        "print('Non-Canonizable rules for NON-muta   : ', len(non_c_Smiles_nm))\n"
      ],
      "execution_count": null,
      "outputs": [
        {
          "output_type": "stream",
          "text": [
            "No. of database ompounds    :  4204\n",
            "Canonizable Compounds       :  4204\n",
            "Non-Canonizable compounds   :  0\n",
            "*****************\n",
            "Total no. of rules for muta      :  112\n",
            "Canonizable rules for muta       :  103\n",
            "Non-Canonizable rules for muta   :  9\n",
            "*****************\n",
            "Total no. of rules for NON-muta      :  112\n",
            "Canonizable rules for NON-muta       :  93\n",
            "Non-Canonizable rules for NON-muta   :  0\n"
          ],
          "name": "stdout"
        }
      ]
    },
    {
      "cell_type": "code",
      "metadata": {
        "colab": {
          "base_uri": "https://localhost:8080/"
        },
        "id": "8GWh602LoHT4",
        "outputId": "3e780374-3d5c-4a5b-a99e-be4928047202"
      },
      "source": [
        "#####################################################################################################\n",
        "##### Converting above data to dictionary with database indices as keys and rules as values #########\n",
        "#####################################################################################################\n",
        "\n",
        "'''\n",
        "This dictionary has compound indices as keys and in the first list of each \n",
        "values we have mutagenic string matches and in second list we'll have non-mutagenic string matches.\n",
        "\n",
        "dictionary format is as follows:\n",
        "\n",
        "- For each key there is a list of two lists\n",
        "    - if a mutagenic hit is found the index of the rule goes to first list\n",
        "    - if non-mutagenic hit is found the index of the rule goes to second list\n",
        "\n",
        "'''\n",
        "dictofGr={}\n",
        "ky = [i for i in range(len(c_smiles_o))]\n",
        "for i in ky:dictofGr[i] = [[],[]]\n",
        "  \n",
        "for c,i in enumerate(list_muta_y):\n",
        "  for elem in i:\n",
        "    \n",
        "    try:\n",
        "      dictofGr[elem][0].append(c)\n",
        "    except:\n",
        "      print('Out of order')\n",
        "\n",
        "for c,i in enumerate(list_i_can_non_mut):\n",
        "  for elem in i:\n",
        "    \n",
        "    try:\n",
        "      dictofGr[elem][1].append(c)\n",
        "    except:\n",
        "      print('Out of order')\n",
        "\n",
        "#############################################\n",
        "##### Count of different categories #########\n",
        "#############################################\n",
        "\n",
        "# ( Possible NON-mutagenic ) and ( definite NON-mutagenic )\n",
        "count = 0       # if both lists in a value are empty\n",
        "count_nm = 0    # if second list in a value has a number\n",
        "\n",
        "# ( Definite mutagenic ) and ( possible mutagenic )\n",
        "count_m = 0     # if first list in a value has a number\n",
        "count_uk = 0    # if both lists in a value has a number\n",
        "\n",
        "for lst in dictofGr.values():   \n",
        "    if len(lst[0])==0 and len(lst[1])==0: count+=1\n",
        "    elif len(lst[0]) == 0 and len(lst[1])!=0: count_nm+=1\n",
        "    elif len(lst[0]) != 0 and len(lst[1])==0: count_m+=1\n",
        "    elif len(lst[0]) != 0 and len(lst[1])!=0: count_nm+=1\n",
        "\n",
        "print([count,count_m,count_nm])"
      ],
      "execution_count": null,
      "outputs": [
        {
          "output_type": "stream",
          "text": [
            "[865, 1822, 1517]\n"
          ],
          "name": "stdout"
        }
      ]
    },
    {
      "cell_type": "code",
      "metadata": {
        "colab": {
          "base_uri": "https://localhost:8080/"
        },
        "id": "stNLAH6IoMR-",
        "outputId": "55c90bd7-7d2d-4bb5-891f-26b1bd672ded"
      },
      "source": [
        "###############################################################\n",
        "##### Make a prediction based on the dictionary above #########\n",
        "###############################################################\n",
        "\n",
        "df_grp = list(dictofGr.values())\n",
        "\n",
        "no_match = []   # List of 'Possible NON-Mutagenic' indices.\n",
        "muta = []       # List of 'NON-Mutagenic' indices.\n",
        "n_muta = []     # List of 'Mutagenic' indices.\n",
        "unk = []        # List of 'Possible Mutagenic' indices.\n",
        "\n",
        "# Initialise a new dataframe and add values from old dataframe\n",
        "df_muta_analysis = pd.DataFrame(data=None, columns=['Id','SMILES','Experimental value','Predicted value','Str_Analysis'],index=df.index)\n",
        "df_muta_analysis[['Id','SMILES','Experimental value','Predicted value']] = df[['Id','SMILES','Experimental value','Predicted value']]\n",
        "\n",
        "\n",
        "for i in range(len(df_grp)):\n",
        "\n",
        "  if len(df_grp[i][0])==0 and len(df_grp[i][1])==0: \n",
        "\n",
        "    df_muta_analysis.at[i,'Str_Analysis']= 'Possible NON-Mutagenic' \n",
        "    no_match.append(i)\n",
        "\n",
        "  elif len(df_grp[i][0]) == 0 and len(df_grp[i][1])!=0: \n",
        "\n",
        "    df_muta_analysis.at[i,'Str_Analysis']= 'NON-Mutagenic'\n",
        "    n_muta.append(i)\n",
        "\n",
        "  elif len(df_grp[i][0]) != 0 and len(df_grp[i][1])==0: \n",
        "\n",
        "    df_muta_analysis.at[i,'Str_Analysis']= 'Mutagenic'\n",
        "    muta.append(i)\n",
        "\n",
        "  elif len(df_grp[i][0]) != 0 and len(df_grp[i][1])!=0: \n",
        "\n",
        "    df_muta_analysis.at[i,'Str_Analysis']= 'Mutagenic'\n",
        "    unk.append(i)\n",
        "\n",
        "mut_g = [i[0] for i in df_grp]\n",
        "non_mut_g = [i[1] for i in df_grp]\n",
        "\n",
        "df_muta_analysis['Muta Groups']   = mut_g\n",
        "df_muta_analysis['N-Muta Groups'] = non_mut_g\n",
        "##############################################################################\n",
        "##### Comparing the current analysis to QSAR and Experimental Values #########\n",
        "##############################################################################\n",
        "\n",
        "\n",
        "\n",
        "Pred_list = df_muta_analysis['Predicted value'].to_list()\n",
        "Analy_lst = df_muta_analysis['Str_Analysis'].to_list()\n",
        "inn_accurate_list = []\n",
        "\n",
        "count_acc = 0\n",
        "count_inacc = 0\n",
        "\n",
        "correct_indices=[]\n",
        "incorrect_indices = []\n",
        "\n",
        "for i,j,z in zip(Pred_list,Analy_lst,ky):\n",
        "  if i == j: \n",
        "    count_acc +=1\n",
        "    correct_indices.append(z)\n",
        "  else:\n",
        "    count_inacc+=1\n",
        "    incorrect_indices.append(z)\n",
        "    inn_accurate_list.append([i,j])\n",
        "print('Total no. of database ompounds    : ', len(Mut_list))\n",
        "print('Total accurate predictions        : ', count_acc)\n",
        "print('Total inaccurate predictions      : ', count_inacc)"
      ],
      "execution_count": null,
      "outputs": [
        {
          "output_type": "stream",
          "text": [
            "Total no. of database ompounds    :  4204\n",
            "Total accurate predictions        :  3932\n",
            "Total inaccurate predictions      :  272\n"
          ],
          "name": "stdout"
        }
      ]
    },
    {
      "cell_type": "code",
      "metadata": {
        "id": "E6DQplt4TFmT"
      },
      "source": [
        "# lst_ind_nd1  = [ 1041, 3419, 2671, 2363, 3385,365, 3535, 86, 3599, 2007,\n",
        "#  3347, 2223, 1394, 2328, 2094, 1628, 52, 571, 1818, 393,\n",
        "#  1479, 1701, 3622, 3457, 871, 2971, 3523, 2378, 447, 1604,\n",
        "#  3279, 3570, 79, 840, 64, 3279, 3570, 79, 840, 64]"
      ],
      "execution_count": null,
      "outputs": []
    },
    {
      "cell_type": "code",
      "metadata": {
        "id": "KwziQ8ocoRZ6"
      },
      "source": [
        "# list of indices for which you want to run this analysis : lst_ind_nd1\n",
        "df_needed = df_muta_analysis.loc[df_muta_analysis.index.isin(lst_ind_nd)]\n",
        "df_needed.shape\n",
        "# This data frame will contain information about the indices of the groups(muta/non-muta) present. \n",
        "path_out = '/content/drive/My Drive/Colab Notebooks/GNN_EHS/Muta_Sarpy_Analysis/df_needed.csv'\n",
        "df_needed.to_csv(path_out)\n",
        "# In case you want to save the dataframe"
      ],
      "execution_count": null,
      "outputs": []
    },
    {
      "cell_type": "code",
      "metadata": {
        "id": "Gbu5KHIAHrbm"
      },
      "source": [
        "# A list of all the strings can be generate using the following lines of code\n",
        "# This is needed to highlight the groups in rdkit images\n",
        "import itertools\n",
        "muta_i = set(list(itertools.chain.from_iterable(df_needed['Muta Groups'].to_list())))\n",
        "mut_str = [mut_y[i] for i in muta_i]\n",
        "muta_str_ind = [(i,j) for i,j in zip(muta_i,mut_str)]"
      ],
      "execution_count": null,
      "outputs": []
    },
    {
      "cell_type": "code",
      "metadata": {
        "id": "hFVw4b60CH7W"
      },
      "source": [
        "index_lst_inacc = df_inacc['Id'].to_list()\n",
        "ind_new = [index_lst_inacc[x] for x in index_mat_ex]\n",
        "df_inacc_Exp = df_inacc.loc[df_inacc.index.isin(ind_new)]\n",
        "df_inacc_Exp\n",
        "\n",
        "df_inacc_notExp = df_inacc[~df_inacc.index.isin(ind_new)]\n",
        "df_inacc_notExp"
      ],
      "execution_count": null,
      "outputs": []
    },
    {
      "cell_type": "markdown",
      "metadata": {
        "id": "8ph0J3cHqRP4"
      },
      "source": [
        "# Hightlight and Save Images"
      ]
    },
    {
      "cell_type": "code",
      "metadata": {
        "id": "JGtgMr-LEPo0"
      },
      "source": [
        "def hitBonds(hit_at,pat,m):\n",
        "  hit_bonds_lst = []\n",
        "  for i,hit in enumerate(hit_at):\n",
        "    hit = list(hit)\n",
        "    bond_lst = []\n",
        "    for bond in pat.GetBonds():\n",
        "      aid1 = hit[bond.GetBeginAtomIdx()]\n",
        "      aid2 = hit[bond.GetEndAtomIdx()]\n",
        "      l = m.GetBondBetweenAtoms(aid1, aid2).GetIdx()\n",
        "      bond_lst.append(l)\n",
        "    print(bond_lst)\n",
        "    hit_bonds_lst.append(bond_lst)\n",
        "  return hit_bonds_lst\n",
        "\n",
        "def hightLights(hit_bonds_lst,hit_atom,typ):\n",
        "  Mut_Non_mut_Col = [(1, 0.5, 0.5), (0.7, 1, 0.4)]\n",
        "  colours =[Mut_Non_mut_Col[typ] for l in [0] * len(hit_bonds_lst)]\n",
        "\n",
        "  atom_cols = {}\n",
        "  bond_cols = {}\n",
        "  atom_list = []\n",
        "  bond_list = []\n",
        "\n",
        "  for i, (hit_atom, hit_bond) in enumerate(zip(hit_atom, hit_bonds_lst)):\n",
        "      hit_atom = list(hit_atom)\n",
        "      for at in hit_atom:\n",
        "          print('***********')\n",
        "          print(at)\n",
        "          print('***********')\n",
        "          for f in at:atom_cols[f] = colours[i%3]#\n",
        "             \n",
        "          atom_list.extend(at)\n",
        "      for bd in hit_bond:\n",
        "          bond_cols[bd] = colours[i%3]\n",
        "          bond_list.append(bd)\n",
        "  atom_cols\n",
        "\n",
        "  return atom_list,atom_cols,bond_list,bond_cols\n",
        "\n",
        "def totalHightlights(Total_hit_bonds,hit_atom,typ):\n",
        "  List_Atom_Bonds = [[],{},[],{}]\n",
        "  for i in Total_hit_bonds:\n",
        "    b = hightLights(i,hit_atom,typ)\n",
        "    #print(b[0])\n",
        "    List_Atom_Bonds[0] = List_Atom_Bonds[0]+b[0]\n",
        "    List_Atom_Bonds[1].update(b[1])\n",
        "    List_Atom_Bonds[2] = List_Atom_Bonds[2]+b[2]#{**List_Atom_Bonds[2], **b[2]}\n",
        "    List_Atom_Bonds[3].update(b[3])\n",
        "  return List_Atom_Bonds\n",
        "\n",
        "def merge_two_dicts(x, y):\n",
        "    z = x.copy()   # start with x's keys and values\n",
        "    z.update(y)    # modifies z with y's keys and values & returns None\n",
        "    return z\n"
      ],
      "execution_count": null,
      "outputs": []
    },
    {
      "cell_type": "code",
      "metadata": {
        "id": "ud_cOvSE6D2A"
      },
      "source": [
        "List_All = []\n",
        "sm_lst = []\n",
        "for id in lst_ind_nd:\n",
        "  smiles = df_needed['SMILES'].loc[id]\n",
        "  smi_lst = [Chem.MolFromSmiles(c_smiles_nm[i]) for i in df_needed['N-Muta Groups'].loc[id] ]\n",
        "  #print('Ok',id)\n",
        "  smi_lst_m = [Chem.MolFromSmiles(mut_y[j]) for j in df_needed['Muta Groups'].loc[id] ]\n",
        "  m = Chem.MolFromSmiles(smiles)\n",
        "  sm_lst.append(smiles)\n",
        "  hitatoms_n_muta = [m.GetSubstructMatches(k) for k in smi_lst]\n",
        "  hitatoms_muta = [m.GetSubstructMatches(l) for l in smi_lst_m]\n",
        "  print(hitatoms_muta)\n",
        "\n",
        "\n",
        "  Total_hit_bonds_nm = [hitBonds(i,j,m) for i,j in zip(hitatoms_n_muta,smi_lst)]\n",
        "  List_Atom_Bonds_NM = totalHightlights(Total_hit_bonds_nm,hitatoms_n_muta,1)\n",
        "\n",
        "  Total_hit_bonds_m = [hitBonds(i,j,m) for i,j in zip(hitatoms_muta,smi_lst_m)]\n",
        "  List_Atom_Bonds_M = totalHightlights(Total_hit_bonds_m,hitatoms_muta,0)\n",
        "\n",
        "\n",
        "  List_Atom_Bonds = [[],{},[],{}]\n",
        "  List_Atom_Bonds[0] = List_Atom_Bonds_NM[0]+ List_Atom_Bonds_M[0]\n",
        "  List_Atom_Bonds[2] = List_Atom_Bonds_NM[2]+ List_Atom_Bonds_M[2]\n",
        "  List_Atom_Bonds[1] = merge_two_dicts(List_Atom_Bonds_NM[1], List_Atom_Bonds_M[1])\n",
        "  List_Atom_Bonds[3] = merge_two_dicts(List_Atom_Bonds_NM[3], List_Atom_Bonds_M[3])\n",
        "\n",
        "  List_All.append(List_Atom_Bonds)\n",
        "  \n"
      ],
      "execution_count": null,
      "outputs": []
    },
    {
      "cell_type": "code",
      "metadata": {
        "id": "V5p_3PygVeiq"
      },
      "source": [
        "# Get substructure match # Atom hits\n",
        "# i depends on the no. of compunds for which the plots are to be generated\n",
        "# looping doesn't seem to be working\n",
        "i = 0\n",
        "d = rdMolDraw2D.MolDraw2DCairo(500, 500)\n",
        "rdMolDraw2D.PrepareAndDrawMolecule(d, Chem.MolFromSmiles(sm_lst[i]) ,highlightAtoms=List_All[i][0],\n",
        "                                        highlightAtomColors=List_All[i][1],\n",
        "                                        highlightBonds=List_All[i][2],\n",
        "                                        highlightBondColors=List_All[i][3])\n",
        "d.WriteDrawingText('/content/drive/My Drive/Colab Notebooks/GNN_EHS/Muta_Sarpy_Analysis/index_'+str(lst_ind_nd[i])+'.png')\n",
        "d.FinishDrawing()\n"
      ],
      "execution_count": null,
      "outputs": []
    },
    {
      "cell_type": "code",
      "metadata": {
        "id": "NDKZeNeSflse"
      },
      "source": [
        "if smi_lst: \n",
        "  print('True')\n",
        "  Total_hit_bonds_nm = [hitBonds(i,j,m) for i,j in zip(hitatoms_n_muta,smi_lst)]\n",
        "  List_Atom_Bonds_NM = totalHightlights(Total_hit_bonds_nm,hitatoms_n_muta,1)\n",
        "if smi_lst_m:\n",
        "  Total_hit_bonds_m = [hitBonds(i,j,m) for i,j in zip(hitatoms_muta,smi_lst_m)]\n",
        "  List_Atom_Bonds_M = totalHightlights(Total_hit_bonds_m,hitatoms_muta,0)\n",
        "\n",
        "\n",
        "List_Atom_Bonds = [[],{},[],{}]\n",
        "List_Atom_Bonds[0] = List_Atom_Bonds_NM[0]+ List_Atom_Bonds_M[0]\n",
        "List_Atom_Bonds[2] = List_Atom_Bonds_NM[2]+ List_Atom_Bonds_M[2]\n",
        "List_Atom_Bonds[1] = merge_two_dicts(List_Atom_Bonds_NM[1], List_Atom_Bonds_M[1])\n",
        "List_Atom_Bonds[3] = merge_two_dicts(List_Atom_Bonds_NM[3], List_Atom_Bonds_M[3])\n",
        "\n",
        "# List_Atom_Bonds[1] = merge_two_dicts( List_Atom_Bonds_M[1],List_Atom_Bonds_NM[1])\n",
        "# List_Atom_Bonds[3] = merge_two_dicts( List_Atom_Bonds_M[3],List_Atom_Bonds_NM[3])"
      ],
      "execution_count": null,
      "outputs": []
    },
    {
      "cell_type": "code",
      "metadata": {
        "id": "tmIR04GTiUAE"
      },
      "source": [
        "from rdkit.Chem.Draw import rdMolDraw2D \n",
        "d = rdMolDraw2D.MolDraw2DCairo(500, 500)\n",
        "rdMolDraw2D.PrepareAndDrawMolecule(d, m ,highlightAtoms=List_Atom_Bonds[0],\n",
        "                                         highlightAtomColors=List_Atom_Bonds[1],\n",
        "                                         highlightBonds=List_Atom_Bonds[2],\n",
        "                                         highlightBondColors=List_Atom_Bonds[3])\n",
        "\n",
        "\n",
        "with open('/content/drive/My Drive/Colab Notebooks/GNN_EHS/Muta_Sarpy_Analysis/index_'+str(lst_ind_nd[0])+'.png', 'wb') as f:\n",
        "  f.write(d.GetDrawingText())"
      ],
      "execution_count": null,
      "outputs": []
    },
    {
      "cell_type": "markdown",
      "metadata": {
        "id": "gAOS31MvqwaN"
      },
      "source": [
        "# Using IPython"
      ]
    },
    {
      "cell_type": "code",
      "metadata": {
        "id": "YdhjT4woqv1i",
        "colab": {
          "base_uri": "https://localhost:8080/",
          "height": 521
        },
        "outputId": "fd76d897-2649-435e-9d6b-a6af9ad99ef2"
      },
      "source": [
        "from rdkit import Chem\n",
        "from rdkit.Chem import rdBase\n",
        "from rdkit.Chem import RDConfig\n",
        "from rdkit.Chem import AllChem\n",
        "from rdkit.Chem import Draw\n",
        "from rdkit.Chem.Draw import rdMolDraw2D\n",
        "from rdkit.Chem.Draw import IPythonConsole\n",
        "from rdkit.Chem import rdDepictor\n",
        "from IPython.display import SVG\n",
        "\n",
        "def hightlightBonds(sml,sub_sml):\n",
        "  mol = Chem.MolFromSmiles(sml)\n",
        "  patt = Chem.MolFromSmarts(sub_sml)\n",
        "  hit_ats = list(mol.GetSubstructMatch(patt))\n",
        "  hit_bonds = []\n",
        "  for bond in patt.GetBonds():\n",
        "    aid1 = hit_ats[bond.GetBeginAtomIdx()]\n",
        "    aid2 = hit_ats[bond.GetEndAtomIdx()]\n",
        "    hit_bonds.append(mol.GetBondBetweenAtoms(aid1,aid2).GetIdx())\n",
        "  return  hit_ats,hit_bonds\n",
        "\n",
        "a,b = hightlightBonds('c1cc(F)ccc1Cl','ClccccF')\n",
        "mol = Chem.MolFromSmiles('c1cc(F)ccc1Cl')\n",
        "d = rdMolDraw2D.MolDraw2DSVG(500, 500) # or MolDraw2DCairo to get PNGs\n",
        "rdMolDraw2D.PrepareAndDrawMolecule(d, mol, highlightAtoms=a,\n",
        "                                   highlightBonds=b)\n",
        "d.FinishDrawing()\n",
        "text = d.GetDrawingText()\n",
        "SVG(d.GetDrawingText())"
      ],
      "execution_count": null,
      "outputs": [
        {
          "output_type": "execute_result",
          "data": {
            "text/plain": [
              "<IPython.core.display.SVG object>"
            ],
            "image/svg+xml": "<svg baseProfile=\"full\" height=\"500px\" version=\"1.1\" viewBox=\"0 0 500 500\" width=\"500px\" xml:space=\"preserve\" xmlns=\"http://www.w3.org/2000/svg\" xmlns:rdkit=\"http://www.rdkit.org/xml\" xmlns:xlink=\"http://www.w3.org/1999/xlink\">\n<!-- END OF HEADER -->\n<rect height=\"500\" style=\"opacity:1.0;fill:#FFFFFF;stroke:none\" width=\"500\" x=\"0\" y=\"0\"> </rect>\n<path d=\"M 145.812,260.257 L 43.2414,260.257\" style=\"fill:none;fill-rule:evenodd;stroke:#FF7F7F;stroke-width:21.9px;stroke-linecap:butt;stroke-linejoin:miter;stroke-opacity:1\"/>\n<path d=\"M 145.812,260.257 L 197.098,171.428\" style=\"fill:none;fill-rule:evenodd;stroke:#FF7F7F;stroke-width:21.9px;stroke-linecap:butt;stroke-linejoin:miter;stroke-opacity:1\"/>\n<path d=\"M 197.098,171.428 L 299.668,171.428\" style=\"fill:none;fill-rule:evenodd;stroke:#FF7F7F;stroke-width:21.9px;stroke-linecap:butt;stroke-linejoin:miter;stroke-opacity:1\"/>\n<path d=\"M 299.668,171.428 L 350.954,260.257\" style=\"fill:none;fill-rule:evenodd;stroke:#FF7F7F;stroke-width:21.9px;stroke-linecap:butt;stroke-linejoin:miter;stroke-opacity:1\"/>\n<path d=\"M 350.954,260.257 L 453.524,260.257\" style=\"fill:none;fill-rule:evenodd;stroke:#FF7F7F;stroke-width:21.9px;stroke-linecap:butt;stroke-linejoin:miter;stroke-opacity:1\"/>\n<ellipse cx=\"145.812\" cy=\"260.257\" rx=\"20.5142\" ry=\"20.5142\" style=\"fill:#FF7F7F;fill-rule:evenodd;stroke:#FF7F7F;stroke-width:1px;stroke-linecap:butt;stroke-linejoin:miter;stroke-opacity:1\"/>\n<ellipse cx=\"43.2414\" cy=\"260.257\" rx=\"20.5142\" ry=\"20.5142\" style=\"fill:#FF7F7F;fill-rule:evenodd;stroke:#FF7F7F;stroke-width:1px;stroke-linecap:butt;stroke-linejoin:miter;stroke-opacity:1\"/>\n<ellipse cx=\"197.098\" cy=\"171.428\" rx=\"20.5142\" ry=\"20.5142\" style=\"fill:#FF7F7F;fill-rule:evenodd;stroke:#FF7F7F;stroke-width:1px;stroke-linecap:butt;stroke-linejoin:miter;stroke-opacity:1\"/>\n<ellipse cx=\"299.668\" cy=\"171.428\" rx=\"20.5142\" ry=\"20.5142\" style=\"fill:#FF7F7F;fill-rule:evenodd;stroke:#FF7F7F;stroke-width:1px;stroke-linecap:butt;stroke-linejoin:miter;stroke-opacity:1\"/>\n<ellipse cx=\"350.954\" cy=\"260.257\" rx=\"20.5142\" ry=\"20.5142\" style=\"fill:#FF7F7F;fill-rule:evenodd;stroke:#FF7F7F;stroke-width:1px;stroke-linecap:butt;stroke-linejoin:miter;stroke-opacity:1\"/>\n<ellipse cx=\"457.084\" cy=\"260.437\" rx=\"20.5142\" ry=\"21.7223\" style=\"fill:#FF7F7F;fill-rule:evenodd;stroke:#FF7F7F;stroke-width:1px;stroke-linecap:butt;stroke-linejoin:miter;stroke-opacity:1\"/>\n<path class=\"bond-0\" d=\"M 299.668,349.086 L 197.098,349.086\" style=\"fill:none;fill-rule:evenodd;stroke:#000000;stroke-width:2.0px;stroke-linecap:butt;stroke-linejoin:miter;stroke-opacity:1\"/>\n<path class=\"bond-0\" d=\"M 284.283,328.572 L 212.483,328.572\" style=\"fill:none;fill-rule:evenodd;stroke:#000000;stroke-width:2.0px;stroke-linecap:butt;stroke-linejoin:miter;stroke-opacity:1\"/>\n<path class=\"bond-7\" d=\"M 299.668,349.086 L 350.954,260.257\" style=\"fill:none;fill-rule:evenodd;stroke:#000000;stroke-width:2.0px;stroke-linecap:butt;stroke-linejoin:miter;stroke-opacity:1\"/>\n<path class=\"bond-1\" d=\"M 197.098,349.086 L 145.812,260.257\" style=\"fill:none;fill-rule:evenodd;stroke:#000000;stroke-width:2.0px;stroke-linecap:butt;stroke-linejoin:miter;stroke-opacity:1\"/>\n<path class=\"bond-2\" d=\"M 145.812,260.257 L 100.019,260.257\" style=\"fill:none;fill-rule:evenodd;stroke:#000000;stroke-width:2.0px;stroke-linecap:butt;stroke-linejoin:miter;stroke-opacity:1\"/>\n<path class=\"bond-2\" d=\"M 100.019,260.257 L 54.2257,260.257\" style=\"fill:none;fill-rule:evenodd;stroke:#33CCCC;stroke-width:2.0px;stroke-linecap:butt;stroke-linejoin:miter;stroke-opacity:1\"/>\n<path class=\"bond-3\" d=\"M 145.812,260.257 L 197.098,171.428\" style=\"fill:none;fill-rule:evenodd;stroke:#000000;stroke-width:2.0px;stroke-linecap:butt;stroke-linejoin:miter;stroke-opacity:1\"/>\n<path class=\"bond-3\" d=\"M 171.271,257.19 L 207.171,195.01\" style=\"fill:none;fill-rule:evenodd;stroke:#000000;stroke-width:2.0px;stroke-linecap:butt;stroke-linejoin:miter;stroke-opacity:1\"/>\n<path class=\"bond-4\" d=\"M 197.098,171.428 L 299.668,171.428\" style=\"fill:none;fill-rule:evenodd;stroke:#000000;stroke-width:2.0px;stroke-linecap:butt;stroke-linejoin:miter;stroke-opacity:1\"/>\n<path class=\"bond-5\" d=\"M 299.668,171.428 L 350.954,260.257\" style=\"fill:none;fill-rule:evenodd;stroke:#000000;stroke-width:2.0px;stroke-linecap:butt;stroke-linejoin:miter;stroke-opacity:1\"/>\n<path class=\"bond-5\" d=\"M 289.595,195.01 L 325.495,257.19\" style=\"fill:none;fill-rule:evenodd;stroke:#000000;stroke-width:2.0px;stroke-linecap:butt;stroke-linejoin:miter;stroke-opacity:1\"/>\n<path class=\"bond-6\" d=\"M 350.954,260.257 L 395.497,260.257\" style=\"fill:none;fill-rule:evenodd;stroke:#000000;stroke-width:2.0px;stroke-linecap:butt;stroke-linejoin:miter;stroke-opacity:1\"/>\n<path class=\"bond-6\" d=\"M 395.497,260.257 L 440.04,260.257\" style=\"fill:none;fill-rule:evenodd;stroke:#00CC00;stroke-width:2.0px;stroke-linecap:butt;stroke-linejoin:miter;stroke-opacity:1\"/>\n<path class=\"atom-3\" d=\"M 34.8214 246.097 L 51.6614 246.097 L 51.6614 249.337 L 38.6214 249.337 L 38.6214 257.937 L 50.2214 257.937 L 50.2214 261.217 L 38.6214 261.217 L 38.6214 274.417 L 34.8214 274.417 L 34.8214 246.097 \" fill=\"#33CCCC\"/>\n<path class=\"atom-7\" d=\"M 442.604 261.237 Q 442.604 254.197, 445.884 250.517 Q 449.204 246.797, 455.484 246.797 Q 461.324 246.797, 464.444 250.917 L 461.804 253.077 Q 459.524 250.077, 455.484 250.077 Q 451.204 250.077, 448.924 252.957 Q 446.684 255.797, 446.684 261.237 Q 446.684 266.837, 449.004 269.717 Q 451.364 272.597, 455.924 272.597 Q 459.044 272.597, 462.684 270.717 L 463.804 273.717 Q 462.324 274.677, 460.084 275.237 Q 457.844 275.797, 455.364 275.797 Q 449.204 275.797, 445.884 272.037 Q 442.604 268.277, 442.604 261.237 \" fill=\"#00CC00\"/>\n<path class=\"atom-7\" d=\"M 467.884 245.077 L 471.564 245.077 L 471.564 275.437 L 467.884 275.437 L 467.884 245.077 \" fill=\"#00CC00\"/>\n</svg>"
          },
          "metadata": {
            "tags": []
          },
          "execution_count": 143
        }
      ]
    },
    {
      "cell_type": "code",
      "metadata": {
        "colab": {
          "base_uri": "https://localhost:8080/"
        },
        "id": "0JIJBiiet4HC",
        "outputId": "d246c81d-a18e-4d51-d1b1-7d33f201566d"
      },
      "source": [
        "a"
      ],
      "execution_count": null,
      "outputs": [
        {
          "output_type": "execute_result",
          "data": {
            "text/plain": [
              "[7, 6, 5, 4, 2, 3]"
            ]
          },
          "metadata": {
            "tags": []
          },
          "execution_count": 145
        }
      ]
    },
    {
      "cell_type": "markdown",
      "metadata": {
        "id": "eXBQkQUWqhqq"
      },
      "source": [
        "# Second Way"
      ]
    },
    {
      "cell_type": "code",
      "metadata": {
        "id": "u1gJWLsogB-O",
        "colab": {
          "base_uri": "https://localhost:8080/",
          "height": 617
        },
        "outputId": "24f85718-9f74-409c-ca03-0e2f81f1e678"
      },
      "source": [
        "import rdkit\n",
        "import rdkit.Chem as Chem\n",
        "from rdkit.Chem import rdFMCS\n",
        "from matplotlib import colors\n",
        "from rdkit.Chem.Draw import MolToImage\n",
        "\n",
        "def get_mol(smiles):\n",
        "    mol = Chem.MolFromSmiles(smiles)\n",
        "    if mol is None:\n",
        "        return None\n",
        "    Chem.Kekulize(mol)\n",
        "    return mol\n",
        "\n",
        "\n",
        "def find_matches_one(mol,submol):\n",
        "    #find all matching atoms for each submol in submol_list in mol.\n",
        "    match_dict = {}\n",
        "    mols = [mol,submol] #pairwise search\n",
        "    res=rdFMCS.FindMCS(mols) #,ringMatchesRingOnly=True)\n",
        "    mcsp = Chem.MolFromSmarts(res.smartsString)\n",
        "    matches = mol.GetSubstructMatches(mcsp)\n",
        "    return matches\n",
        "\n",
        "#Draw the molecule\n",
        "def get_image(mol,atomset=None):    \n",
        "    hcolor = colors.to_rgb('green')\n",
        "    if atomset is not None:\n",
        "        #highlight the atoms set while drawing the whole molecule.\n",
        "        img = MolToImage(mol, size=(600, 600),fitImage=True, highlightAtoms=atomset,highlightColor=hcolor)\n",
        "    else:\n",
        "        img = MolToImage(mol, size=(400, 400),fitImage=True)\n",
        "    return img\n",
        "\n",
        "peptide_smi = 'CCCCCCCCCC(=O)NC(Cc1c[nH]c2ccccc12)C(=O)NC(CC(N)=O)C(=O)NC(CC(=O)O)C(=O)NC4C(C)OC(=O)C(CC(=O)c3ccccc3(N))NC(=O)C(NC(=O)C(CO)NC(=O)CNC(=O)C(CC(=O)O)NC(=O)C(C)NC(=O)C(CC(=O)O)NC(=O)C(CCCN)NC(=O)CNC4(=O))C(C)CC(=O)O'\n",
        "monomer_smi = 'CCCCCCCCCC(=O)O'\n",
        "\n",
        "peptide_mol = get_mol(peptide_smi) #whole molecule\n",
        "monomer_mol = get_mol(monomer_smi) #substructure molecule\n",
        "\n",
        "matches = find_matches_one(peptide_mol,monomer_mol)\n",
        "\n",
        "atomset = list(matches[0])\n",
        "\n",
        "img = get_image(peptide_mol,atomset)\n",
        "img \n"
      ],
      "execution_count": null,
      "outputs": [
        {
          "output_type": "execute_result",
          "data": {
            "image/png": "[encoded data removed]",
            "text/plain": [
              "<PIL.PngImagePlugin.PngImageFile image mode=RGB size=600x600 at 0x7F6F2C5A04D0>"
            ]
          },
          "metadata": {
            "tags": []
          },
          "execution_count": 144
        }
      ]
    },
    {
      "cell_type": "code",
      "metadata": {
        "colab": {
          "base_uri": "https://localhost:8080/"
        },
        "id": "UKiE9EP-u3RI",
        "outputId": "51d25649-b5eb-4c28-a475-8bc0d0864845"
      },
      "source": [
        "mol = Chem.MolFromSmiles('Clc1c(Cl)c(O)ccc1O')\n",
        "patt = Chem.MolFromSmarts('ClccO')\n",
        "hit_ats = mol.GetSubstructMatches(patt)\n",
        "print(hit_ats)\n",
        "bond_lists = []\n",
        "for i, hit_at in enumerate(hit_ats):\n",
        "    hit_at = list(hit_at)\n",
        "    bond_list = []\n",
        "    for bond in patt.GetBonds():\n",
        "        a1 = hit_at[bond.GetBeginAtomIdx()]\n",
        "        a2 = hit_at[bond.GetEndAtomIdx()]\n",
        "        bond_list.append(mol.GetBondBetweenAtoms(a1, a2).GetIdx())\n",
        "    bond_lists.append(bond_list)\n",
        "print(bond_lists)\n",
        "colours = [(1, 0, 0), (0, 1, 0), (0, 0, 1)]\n",
        "atom_cols = {}\n",
        "bond_cols = {}\n",
        "atom_list = []\n",
        "bond_list = []\n",
        "for i, (hit_atom, hit_bond) in enumerate(zip(hit_ats, bond_lists)):\n",
        "    hit_atom = list(hit_atom)\n",
        "    for at in hit_atom:\n",
        "        atom_cols[at] = colours[i%3]\n",
        "        atom_list.append(at)\n",
        "    for bd in hit_bond:\n",
        "        bond_cols[bd] = colours[i%3]\n",
        "        bond_list.append(bd)\n",
        "\n",
        "d = rdMolDraw2D.MolDraw2DCairo(500, 500)\n",
        "rdMolDraw2D.PrepareAndDrawMolecule(d, mol, highlightAtoms=atom_list,\n",
        "                                      highlightAtomColors=atom_cols,\n",
        "                                      highlightBonds=bond_list,\n",
        "                                      highlightBondColors=bond_cols)\n",
        "with open('/content/drive/My Drive/Colab Notebooks/GNN_EHS/multi_highlighted_3.png', 'wb') as f:\n",
        "    f.write(d.GetDrawingText())"
      ],
      "execution_count": null,
      "outputs": [
        {
          "output_type": "stream",
          "text": [
            "((0, 1, 8, 9), (3, 2, 4, 5))\n",
            "[[0, 9, 8], [2, 3, 4]]\n"
          ],
          "name": "stdout"
        }
      ]
    },
    {
      "cell_type": "code",
      "metadata": {
        "id": "H1YtlZXmzYfK",
        "colab": {
          "base_uri": "https://localhost:8080/"
        },
        "outputId": "bb6ee83d-8408-4fb4-c3af-badad3a4be72"
      },
      "source": [
        "bond_cols"
      ],
      "execution_count": null,
      "outputs": [
        {
          "output_type": "execute_result",
          "data": {
            "text/plain": [
              "{0: (1, 0, 0),\n",
              " 2: (0, 1, 0),\n",
              " 3: (0, 1, 0),\n",
              " 4: (0, 1, 0),\n",
              " 8: (1, 0, 0),\n",
              " 9: (1, 0, 0)}"
            ]
          },
          "metadata": {
            "tags": []
          },
          "execution_count": 207
        }
      ]
    }
  ]
}