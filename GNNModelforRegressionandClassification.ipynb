{
  "nbformat": 4,
  "nbformat_minor": 0,
  "metadata": {
    "accelerator": "TPU",
    "colab": {
      "name": "GNNModelforRegressionandClassification.ipynb",
      "provenance": [],
      "collapsed_sections": [
        "CeG7ucw3gKZm"
      ],
      "mount_file_id": "1Te6SMw7sJ9x63cfkX_u3I1gzrTR9v6kL",
      "authorship_tag": "ABX9TyOjLFJ4AfAqtqIrbqQrFSWm",
      "include_colab_link": true
    },
    "kernelspec": {
      "display_name": "Python 3",
      "name": "python3"
    },
    "language_info": {
      "name": "python"
    },
    "widgets": {
      "application/vnd.jupyter.widget-state+json": {
        "15cb522228444ed7a9305092e50dd8ae": {
          "model_module": "@jupyter-widgets/controls",
          "model_name": "HBoxModel",
          "state": {
            "_view_name": "HBoxView",
            "_dom_classes": [],
            "_model_name": "HBoxModel",
            "_view_module": "@jupyter-widgets/controls",
            "_model_module_version": "1.5.0",
            "_view_count": null,
            "_view_module_version": "1.5.0",
            "box_style": "",
            "layout": "IPY_MODEL_ebf96f65ee7d4256b721c4632ab1e0f9",
            "_model_module": "@jupyter-widgets/controls",
            "children": [
              "IPY_MODEL_e21bcf2e82a4482792284f717a0cbad0",
              "IPY_MODEL_125d1543b7d247e2a1eef92e7a56974e"
            ]
          }
        },
        "ebf96f65ee7d4256b721c4632ab1e0f9": {
          "model_module": "@jupyter-widgets/base",
          "model_name": "LayoutModel",
          "state": {
            "_view_name": "LayoutView",
            "grid_template_rows": null,
            "right": null,
            "justify_content": null,
            "_view_module": "@jupyter-widgets/base",
            "overflow": null,
            "_model_module_version": "1.2.0",
            "_view_count": null,
            "flex_flow": null,
            "width": null,
            "min_width": null,
            "border": null,
            "align_items": null,
            "bottom": null,
            "_model_module": "@jupyter-widgets/base",
            "top": null,
            "grid_column": null,
            "overflow_y": null,
            "overflow_x": null,
            "grid_auto_flow": null,
            "grid_area": null,
            "grid_template_columns": null,
            "flex": null,
            "_model_name": "LayoutModel",
            "justify_items": null,
            "grid_row": null,
            "max_height": null,
            "align_content": null,
            "visibility": null,
            "align_self": null,
            "height": null,
            "min_height": null,
            "padding": null,
            "grid_auto_rows": null,
            "grid_gap": null,
            "max_width": null,
            "order": null,
            "_view_module_version": "1.2.0",
            "grid_template_areas": null,
            "object_position": null,
            "object_fit": null,
            "grid_auto_columns": null,
            "margin": null,
            "display": null,
            "left": null
          }
        },
        "e21bcf2e82a4482792284f717a0cbad0": {
          "model_module": "@jupyter-widgets/controls",
          "model_name": "FloatProgressModel",
          "state": {
            "_view_name": "ProgressView",
            "style": "IPY_MODEL_efb50cdad37f431a83a430daedd24d40",
            "_dom_classes": [],
            "description": "100%",
            "_model_name": "FloatProgressModel",
            "bar_style": "success",
            "max": 929,
            "_view_module": "@jupyter-widgets/controls",
            "_model_module_version": "1.5.0",
            "value": 929,
            "_view_count": null,
            "_view_module_version": "1.5.0",
            "orientation": "horizontal",
            "min": 0,
            "description_tooltip": null,
            "_model_module": "@jupyter-widgets/controls",
            "layout": "IPY_MODEL_437458112bbd468ea19a49136c504bd8"
          }
        },
        "125d1543b7d247e2a1eef92e7a56974e": {
          "model_module": "@jupyter-widgets/controls",
          "model_name": "HTMLModel",
          "state": {
            "_view_name": "HTMLView",
            "style": "IPY_MODEL_192fefd1d8054d388b2afb32894f6225",
            "_dom_classes": [],
            "description": "",
            "_model_name": "HTMLModel",
            "placeholder": "​",
            "_view_module": "@jupyter-widgets/controls",
            "_model_module_version": "1.5.0",
            "value": " 929/929 [00:03&lt;00:00, 253.00it/s]",
            "_view_count": null,
            "_view_module_version": "1.5.0",
            "description_tooltip": null,
            "_model_module": "@jupyter-widgets/controls",
            "layout": "IPY_MODEL_400bc13397ed4a92925112963839c048"
          }
        },
        "efb50cdad37f431a83a430daedd24d40": {
          "model_module": "@jupyter-widgets/controls",
          "model_name": "ProgressStyleModel",
          "state": {
            "_view_name": "StyleView",
            "_model_name": "ProgressStyleModel",
            "description_width": "initial",
            "_view_module": "@jupyter-widgets/base",
            "_model_module_version": "1.5.0",
            "_view_count": null,
            "_view_module_version": "1.2.0",
            "bar_color": null,
            "_model_module": "@jupyter-widgets/controls"
          }
        },
        "437458112bbd468ea19a49136c504bd8": {
          "model_module": "@jupyter-widgets/base",
          "model_name": "LayoutModel",
          "state": {
            "_view_name": "LayoutView",
            "grid_template_rows": null,
            "right": null,
            "justify_content": null,
            "_view_module": "@jupyter-widgets/base",
            "overflow": null,
            "_model_module_version": "1.2.0",
            "_view_count": null,
            "flex_flow": null,
            "width": null,
            "min_width": null,
            "border": null,
            "align_items": null,
            "bottom": null,
            "_model_module": "@jupyter-widgets/base",
            "top": null,
            "grid_column": null,
            "overflow_y": null,
            "overflow_x": null,
            "grid_auto_flow": null,
            "grid_area": null,
            "grid_template_columns": null,
            "flex": null,
            "_model_name": "LayoutModel",
            "justify_items": null,
            "grid_row": null,
            "max_height": null,
            "align_content": null,
            "visibility": null,
            "align_self": null,
            "height": null,
            "min_height": null,
            "padding": null,
            "grid_auto_rows": null,
            "grid_gap": null,
            "max_width": null,
            "order": null,
            "_view_module_version": "1.2.0",
            "grid_template_areas": null,
            "object_position": null,
            "object_fit": null,
            "grid_auto_columns": null,
            "margin": null,
            "display": null,
            "left": null
          }
        },
        "192fefd1d8054d388b2afb32894f6225": {
          "model_module": "@jupyter-widgets/controls",
          "model_name": "DescriptionStyleModel",
          "state": {
            "_view_name": "StyleView",
            "_model_name": "DescriptionStyleModel",
            "description_width": "",
            "_view_module": "@jupyter-widgets/base",
            "_model_module_version": "1.5.0",
            "_view_count": null,
            "_view_module_version": "1.2.0",
            "_model_module": "@jupyter-widgets/controls"
          }
        },
        "400bc13397ed4a92925112963839c048": {
          "model_module": "@jupyter-widgets/base",
          "model_name": "LayoutModel",
          "state": {
            "_view_name": "LayoutView",
            "grid_template_rows": null,
            "right": null,
            "justify_content": null,
            "_view_module": "@jupyter-widgets/base",
            "overflow": null,
            "_model_module_version": "1.2.0",
            "_view_count": null,
            "flex_flow": null,
            "width": null,
            "min_width": null,
            "border": null,
            "align_items": null,
            "bottom": null,
            "_model_module": "@jupyter-widgets/base",
            "top": null,
            "grid_column": null,
            "overflow_y": null,
            "overflow_x": null,
            "grid_auto_flow": null,
            "grid_area": null,
            "grid_template_columns": null,
            "flex": null,
            "_model_name": "LayoutModel",
            "justify_items": null,
            "grid_row": null,
            "max_height": null,
            "align_content": null,
            "visibility": null,
            "align_self": null,
            "height": null,
            "min_height": null,
            "padding": null,
            "grid_auto_rows": null,
            "grid_gap": null,
            "max_width": null,
            "order": null,
            "_view_module_version": "1.2.0",
            "grid_template_areas": null,
            "object_position": null,
            "object_fit": null,
            "grid_auto_columns": null,
            "margin": null,
            "display": null,
            "left": null
          }
        },
        "3687e9931b9b47fc8506568e15871968": {
          "model_module": "@jupyter-widgets/controls",
          "model_name": "HBoxModel",
          "state": {
            "_view_name": "HBoxView",
            "_dom_classes": [],
            "_model_name": "HBoxModel",
            "_view_module": "@jupyter-widgets/controls",
            "_model_module_version": "1.5.0",
            "_view_count": null,
            "_view_module_version": "1.5.0",
            "box_style": "",
            "layout": "IPY_MODEL_82451daca2784949ac57212566b12249",
            "_model_module": "@jupyter-widgets/controls",
            "children": [
              "IPY_MODEL_be0b28065ee74deeb6a1e2d02c192c48",
              "IPY_MODEL_acc957e6deea4792acedc56fe4c208ef"
            ]
          }
        },
        "82451daca2784949ac57212566b12249": {
          "model_module": "@jupyter-widgets/base",
          "model_name": "LayoutModel",
          "state": {
            "_view_name": "LayoutView",
            "grid_template_rows": null,
            "right": null,
            "justify_content": null,
            "_view_module": "@jupyter-widgets/base",
            "overflow": null,
            "_model_module_version": "1.2.0",
            "_view_count": null,
            "flex_flow": null,
            "width": null,
            "min_width": null,
            "border": null,
            "align_items": null,
            "bottom": null,
            "_model_module": "@jupyter-widgets/base",
            "top": null,
            "grid_column": null,
            "overflow_y": null,
            "overflow_x": null,
            "grid_auto_flow": null,
            "grid_area": null,
            "grid_template_columns": null,
            "flex": null,
            "_model_name": "LayoutModel",
            "justify_items": null,
            "grid_row": null,
            "max_height": null,
            "align_content": null,
            "visibility": null,
            "align_self": null,
            "height": null,
            "min_height": null,
            "padding": null,
            "grid_auto_rows": null,
            "grid_gap": null,
            "max_width": null,
            "order": null,
            "_view_module_version": "1.2.0",
            "grid_template_areas": null,
            "object_position": null,
            "object_fit": null,
            "grid_auto_columns": null,
            "margin": null,
            "display": null,
            "left": null
          }
        },
        "be0b28065ee74deeb6a1e2d02c192c48": {
          "model_module": "@jupyter-widgets/controls",
          "model_name": "FloatProgressModel",
          "state": {
            "_view_name": "ProgressView",
            "style": "IPY_MODEL_a649cdc48b5a434f96d550cc5d851ffc",
            "_dom_classes": [],
            "description": "100%",
            "_model_name": "FloatProgressModel",
            "bar_style": "success",
            "max": 307,
            "_view_module": "@jupyter-widgets/controls",
            "_model_module_version": "1.5.0",
            "value": 307,
            "_view_count": null,
            "_view_module_version": "1.5.0",
            "orientation": "horizontal",
            "min": 0,
            "description_tooltip": null,
            "_model_module": "@jupyter-widgets/controls",
            "layout": "IPY_MODEL_b89211aaa82c410b9d5a64b827426eda"
          }
        },
        "acc957e6deea4792acedc56fe4c208ef": {
          "model_module": "@jupyter-widgets/controls",
          "model_name": "HTMLModel",
          "state": {
            "_view_name": "HTMLView",
            "style": "IPY_MODEL_ae3cfcab4ec34b83b22ef53f489b51e8",
            "_dom_classes": [],
            "description": "",
            "_model_name": "HTMLModel",
            "placeholder": "​",
            "_view_module": "@jupyter-widgets/controls",
            "_model_module_version": "1.5.0",
            "value": " 307/307 [00:02&lt;00:00, 135.04it/s]",
            "_view_count": null,
            "_view_module_version": "1.5.0",
            "description_tooltip": null,
            "_model_module": "@jupyter-widgets/controls",
            "layout": "IPY_MODEL_accf43ef5361427f8917200a37d4ae66"
          }
        },
        "a649cdc48b5a434f96d550cc5d851ffc": {
          "model_module": "@jupyter-widgets/controls",
          "model_name": "ProgressStyleModel",
          "state": {
            "_view_name": "StyleView",
            "_model_name": "ProgressStyleModel",
            "description_width": "initial",
            "_view_module": "@jupyter-widgets/base",
            "_model_module_version": "1.5.0",
            "_view_count": null,
            "_view_module_version": "1.2.0",
            "bar_color": null,
            "_model_module": "@jupyter-widgets/controls"
          }
        },
        "b89211aaa82c410b9d5a64b827426eda": {
          "model_module": "@jupyter-widgets/base",
          "model_name": "LayoutModel",
          "state": {
            "_view_name": "LayoutView",
            "grid_template_rows": null,
            "right": null,
            "justify_content": null,
            "_view_module": "@jupyter-widgets/base",
            "overflow": null,
            "_model_module_version": "1.2.0",
            "_view_count": null,
            "flex_flow": null,
            "width": null,
            "min_width": null,
            "border": null,
            "align_items": null,
            "bottom": null,
            "_model_module": "@jupyter-widgets/base",
            "top": null,
            "grid_column": null,
            "overflow_y": null,
            "overflow_x": null,
            "grid_auto_flow": null,
            "grid_area": null,
            "grid_template_columns": null,
            "flex": null,
            "_model_name": "LayoutModel",
            "justify_items": null,
            "grid_row": null,
            "max_height": null,
            "align_content": null,
            "visibility": null,
            "align_self": null,
            "height": null,
            "min_height": null,
            "padding": null,
            "grid_auto_rows": null,
            "grid_gap": null,
            "max_width": null,
            "order": null,
            "_view_module_version": "1.2.0",
            "grid_template_areas": null,
            "object_position": null,
            "object_fit": null,
            "grid_auto_columns": null,
            "margin": null,
            "display": null,
            "left": null
          }
        },
        "ae3cfcab4ec34b83b22ef53f489b51e8": {
          "model_module": "@jupyter-widgets/controls",
          "model_name": "DescriptionStyleModel",
          "state": {
            "_view_name": "StyleView",
            "_model_name": "DescriptionStyleModel",
            "description_width": "",
            "_view_module": "@jupyter-widgets/base",
            "_model_module_version": "1.5.0",
            "_view_count": null,
            "_view_module_version": "1.2.0",
            "_model_module": "@jupyter-widgets/controls"
          }
        },
        "accf43ef5361427f8917200a37d4ae66": {
          "model_module": "@jupyter-widgets/base",
          "model_name": "LayoutModel",
          "state": {
            "_view_name": "LayoutView",
            "grid_template_rows": null,
            "right": null,
            "justify_content": null,
            "_view_module": "@jupyter-widgets/base",
            "overflow": null,
            "_model_module_version": "1.2.0",
            "_view_count": null,
            "flex_flow": null,
            "width": null,
            "min_width": null,
            "border": null,
            "align_items": null,
            "bottom": null,
            "_model_module": "@jupyter-widgets/base",
            "top": null,
            "grid_column": null,
            "overflow_y": null,
            "overflow_x": null,
            "grid_auto_flow": null,
            "grid_area": null,
            "grid_template_columns": null,
            "flex": null,
            "_model_name": "LayoutModel",
            "justify_items": null,
            "grid_row": null,
            "max_height": null,
            "align_content": null,
            "visibility": null,
            "align_self": null,
            "height": null,
            "min_height": null,
            "padding": null,
            "grid_auto_rows": null,
            "grid_gap": null,
            "max_width": null,
            "order": null,
            "_view_module_version": "1.2.0",
            "grid_template_areas": null,
            "object_position": null,
            "object_fit": null,
            "grid_auto_columns": null,
            "margin": null,
            "display": null,
            "left": null
          }
        },
        "a64f78336a664df2b985c2e5f37432d5": {
          "model_module": "@jupyter-widgets/controls",
          "model_name": "HBoxModel",
          "state": {
            "_view_name": "HBoxView",
            "_dom_classes": [],
            "_model_name": "HBoxModel",
            "_view_module": "@jupyter-widgets/controls",
            "_model_module_version": "1.5.0",
            "_view_count": null,
            "_view_module_version": "1.5.0",
            "box_style": "",
            "layout": "IPY_MODEL_6a9855dce14c44ed8531a631ccdeea34",
            "_model_module": "@jupyter-widgets/controls",
            "children": [
              "IPY_MODEL_664a0f08eb7742ccaaa5ec6b4bac824e",
              "IPY_MODEL_51355688715b44df96525d57b62e31a6"
            ]
          }
        },
        "6a9855dce14c44ed8531a631ccdeea34": {
          "model_module": "@jupyter-widgets/base",
          "model_name": "LayoutModel",
          "state": {
            "_view_name": "LayoutView",
            "grid_template_rows": null,
            "right": null,
            "justify_content": null,
            "_view_module": "@jupyter-widgets/base",
            "overflow": null,
            "_model_module_version": "1.2.0",
            "_view_count": null,
            "flex_flow": null,
            "width": null,
            "min_width": null,
            "border": null,
            "align_items": null,
            "bottom": null,
            "_model_module": "@jupyter-widgets/base",
            "top": null,
            "grid_column": null,
            "overflow_y": null,
            "overflow_x": null,
            "grid_auto_flow": null,
            "grid_area": null,
            "grid_template_columns": null,
            "flex": null,
            "_model_name": "LayoutModel",
            "justify_items": null,
            "grid_row": null,
            "max_height": null,
            "align_content": null,
            "visibility": null,
            "align_self": null,
            "height": null,
            "min_height": null,
            "padding": null,
            "grid_auto_rows": null,
            "grid_gap": null,
            "max_width": null,
            "order": null,
            "_view_module_version": "1.2.0",
            "grid_template_areas": null,
            "object_position": null,
            "object_fit": null,
            "grid_auto_columns": null,
            "margin": null,
            "display": null,
            "left": null
          }
        },
        "664a0f08eb7742ccaaa5ec6b4bac824e": {
          "model_module": "@jupyter-widgets/controls",
          "model_name": "FloatProgressModel",
          "state": {
            "_view_name": "ProgressView",
            "style": "IPY_MODEL_0c8cb2f7351445fe82edb8978b19c357",
            "_dom_classes": [],
            "description": "100%",
            "_model_name": "FloatProgressModel",
            "bar_style": "success",
            "max": 307,
            "_view_module": "@jupyter-widgets/controls",
            "_model_module_version": "1.5.0",
            "value": 307,
            "_view_count": null,
            "_view_module_version": "1.5.0",
            "orientation": "horizontal",
            "min": 0,
            "description_tooltip": null,
            "_model_module": "@jupyter-widgets/controls",
            "layout": "IPY_MODEL_fb14e65fe379469cb4fe3dfd0d08cbfb"
          }
        },
        "51355688715b44df96525d57b62e31a6": {
          "model_module": "@jupyter-widgets/controls",
          "model_name": "HTMLModel",
          "state": {
            "_view_name": "HTMLView",
            "style": "IPY_MODEL_4d10646c0c094f0bbaa3a78b64504121",
            "_dom_classes": [],
            "description": "",
            "_model_name": "HTMLModel",
            "placeholder": "​",
            "_view_module": "@jupyter-widgets/controls",
            "_model_module_version": "1.5.0",
            "value": " 307/307 [00:01&lt;00:00, 258.06it/s]",
            "_view_count": null,
            "_view_module_version": "1.5.0",
            "description_tooltip": null,
            "_model_module": "@jupyter-widgets/controls",
            "layout": "IPY_MODEL_3991c41370ce4113b955c0a108e032b4"
          }
        },
        "0c8cb2f7351445fe82edb8978b19c357": {
          "model_module": "@jupyter-widgets/controls",
          "model_name": "ProgressStyleModel",
          "state": {
            "_view_name": "StyleView",
            "_model_name": "ProgressStyleModel",
            "description_width": "initial",
            "_view_module": "@jupyter-widgets/base",
            "_model_module_version": "1.5.0",
            "_view_count": null,
            "_view_module_version": "1.2.0",
            "bar_color": null,
            "_model_module": "@jupyter-widgets/controls"
          }
        },
        "fb14e65fe379469cb4fe3dfd0d08cbfb": {
          "model_module": "@jupyter-widgets/base",
          "model_name": "LayoutModel",
          "state": {
            "_view_name": "LayoutView",
            "grid_template_rows": null,
            "right": null,
            "justify_content": null,
            "_view_module": "@jupyter-widgets/base",
            "overflow": null,
            "_model_module_version": "1.2.0",
            "_view_count": null,
            "flex_flow": null,
            "width": null,
            "min_width": null,
            "border": null,
            "align_items": null,
            "bottom": null,
            "_model_module": "@jupyter-widgets/base",
            "top": null,
            "grid_column": null,
            "overflow_y": null,
            "overflow_x": null,
            "grid_auto_flow": null,
            "grid_area": null,
            "grid_template_columns": null,
            "flex": null,
            "_model_name": "LayoutModel",
            "justify_items": null,
            "grid_row": null,
            "max_height": null,
            "align_content": null,
            "visibility": null,
            "align_self": null,
            "height": null,
            "min_height": null,
            "padding": null,
            "grid_auto_rows": null,
            "grid_gap": null,
            "max_width": null,
            "order": null,
            "_view_module_version": "1.2.0",
            "grid_template_areas": null,
            "object_position": null,
            "object_fit": null,
            "grid_auto_columns": null,
            "margin": null,
            "display": null,
            "left": null
          }
        },
        "4d10646c0c094f0bbaa3a78b64504121": {
          "model_module": "@jupyter-widgets/controls",
          "model_name": "DescriptionStyleModel",
          "state": {
            "_view_name": "StyleView",
            "_model_name": "DescriptionStyleModel",
            "description_width": "",
            "_view_module": "@jupyter-widgets/base",
            "_model_module_version": "1.5.0",
            "_view_count": null,
            "_view_module_version": "1.2.0",
            "_model_module": "@jupyter-widgets/controls"
          }
        },
        "3991c41370ce4113b955c0a108e032b4": {
          "model_module": "@jupyter-widgets/base",
          "model_name": "LayoutModel",
          "state": {
            "_view_name": "LayoutView",
            "grid_template_rows": null,
            "right": null,
            "justify_content": null,
            "_view_module": "@jupyter-widgets/base",
            "overflow": null,
            "_model_module_version": "1.2.0",
            "_view_count": null,
            "flex_flow": null,
            "width": null,
            "min_width": null,
            "border": null,
            "align_items": null,
            "bottom": null,
            "_model_module": "@jupyter-widgets/base",
            "top": null,
            "grid_column": null,
            "overflow_y": null,
            "overflow_x": null,
            "grid_auto_flow": null,
            "grid_area": null,
            "grid_template_columns": null,
            "flex": null,
            "_model_name": "LayoutModel",
            "justify_items": null,
            "grid_row": null,
            "max_height": null,
            "align_content": null,
            "visibility": null,
            "align_self": null,
            "height": null,
            "min_height": null,
            "padding": null,
            "grid_auto_rows": null,
            "grid_gap": null,
            "max_width": null,
            "order": null,
            "_view_module_version": "1.2.0",
            "grid_template_areas": null,
            "object_position": null,
            "object_fit": null,
            "grid_auto_columns": null,
            "margin": null,
            "display": null,
            "left": null
          }
        }
      }
    }
  },
  "cells": [
    {
      "cell_type": "markdown",
      "metadata": {
        "id": "view-in-github",
        "colab_type": "text"
      },
      "source": [
        "<a href=\"https://colab.research.google.com/github/MounaS5/GNN_EHS/blob/master/GNNModelforRegressionandClassification.ipynb\" target=\"_parent\"><img src=\"https://colab.research.google.com/assets/colab-badge.svg\" alt=\"Open In Colab\"/></a>"
      ]
    },
    {
      "cell_type": "markdown",
      "metadata": {
        "id": "CeG7ucw3gKZm"
      },
      "source": [
        "# RDKit and Pytorch Installation and Other Utilities Packages\n"
      ]
    },
    {
      "cell_type": "code",
      "metadata": {
        "id": "O3ihNTbAgJz7"
      },
      "source": [
        "import sys\n",
        "import os\n",
        "import requests\n",
        "import subprocess\n",
        "import shutil\n",
        "from logging import getLogger, StreamHandler, INFO\n",
        "\n",
        "\n",
        "logger = getLogger(__name__)\n",
        "logger.addHandler(StreamHandler())\n",
        "logger.setLevel(INFO)\n",
        "\n",
        "\n",
        "def install(\n",
        "        chunk_size=4096,\n",
        "        file_name=\"Miniconda3-latest-Linux-x86_64.sh\",\n",
        "        url_base=\"https://repo.continuum.io/miniconda/\",\n",
        "        conda_path=os.path.expanduser(os.path.join(\"~\", \"miniconda\")),\n",
        "        rdkit_version=None,\n",
        "        add_python_path=True,\n",
        "        force=False):\n",
        "    \"\"\"install rdkit from miniconda\n",
        "    ```\n",
        "    import rdkit_installer\n",
        "    rdkit_installer.install()\n",
        "    ```\n",
        "    \"\"\"\n",
        "\n",
        "    python_path = os.path.join(\n",
        "        conda_path,\n",
        "        \"lib\",\n",
        "        \"python{0}.{1}\".format(*sys.version_info),\n",
        "        \"site-packages\",\n",
        "    )\n",
        "\n",
        "    if add_python_path and python_path not in sys.path:\n",
        "        logger.info(\"add {} to PYTHONPATH\".format(python_path))\n",
        "        sys.path.append(python_path)\n",
        "\n",
        "    if os.path.isdir(os.path.join(python_path, \"rdkit\")):\n",
        "        logger.info(\"rdkit is already installed\")\n",
        "        if not force:\n",
        "            return\n",
        "\n",
        "        logger.info(\"force re-install\")\n",
        "\n",
        "    url = url_base + file_name\n",
        "    python_version = \"{0}.{1}.{2}\".format(*sys.version_info)\n",
        "\n",
        "    logger.info(\"python version: {}\".format(python_version))\n",
        "\n",
        "    if os.path.isdir(conda_path):\n",
        "        logger.warning(\"remove current miniconda\")\n",
        "        shutil.rmtree(conda_path)\n",
        "    elif os.path.isfile(conda_path):\n",
        "        logger.warning(\"remove {}\".format(conda_path))\n",
        "        os.remove(conda_path)\n",
        "\n",
        "    logger.info('fetching installer from {}'.format(url))\n",
        "    res = requests.get(url, stream=True)\n",
        "    res.raise_for_status()\n",
        "    with open(file_name, 'wb') as f:\n",
        "        for chunk in res.iter_content(chunk_size):\n",
        "            f.write(chunk)\n",
        "    logger.info('done')\n",
        "\n",
        "    logger.info('installing miniconda to {}'.format(conda_path))\n",
        "    subprocess.check_call([\"bash\", file_name, \"-b\", \"-p\", conda_path])\n",
        "    logger.info('done')\n",
        "\n",
        "    logger.info(\"installing rdkit\")\n",
        "    subprocess.check_call([\n",
        "        os.path.join(conda_path, \"bin\", \"conda\"),\n",
        "        \"install\",\n",
        "        \"--yes\",\n",
        "        \"-c\", \"rdkit\",\n",
        "        \"python=={}\".format(python_version),\n",
        "        \"rdkit\" if rdkit_version is None else \"rdkit=={}\".format(rdkit_version)])\n",
        "    logger.info(\"done\")\n",
        "\n",
        "    import rdkit\n",
        "    logger.info(\"rdkit-{} installation finished!\".format(rdkit.__version__))\n",
        "\n",
        "\n",
        "if __name__ == \"__main__\":\n",
        "    install()"
      ],
      "execution_count": null,
      "outputs": []
    },
    {
      "cell_type": "markdown",
      "metadata": {
        "id": "WOvl3_QUIfo0"
      },
      "source": [
        "# New RDKit Method"
      ]
    },
    {
      "cell_type": "code",
      "metadata": {
        "colab": {
          "base_uri": "https://localhost:8080/"
        },
        "id": "pOznm-5cIE-4",
        "outputId": "d06fef2e-fcde-4551-d1a5-5c882119bbe5"
      },
      "source": [
        "!pip install rdkit-pypi"
      ],
      "execution_count": 4,
      "outputs": [
        {
          "output_type": "stream",
          "text": [
            "Collecting rdkit-pypi\n",
            "  Downloading rdkit_pypi-2021.3.4-cp37-cp37m-manylinux2014_x86_64.whl (18.6 MB)\n",
            "\u001b[K     |████████████████████████████████| 18.6 MB 159 kB/s \n",
            "\u001b[?25hRequirement already satisfied: numpy>=1.19 in /usr/local/lib/python3.7/dist-packages (from rdkit-pypi) (1.19.5)\n",
            "Installing collected packages: rdkit-pypi\n",
            "Successfully installed rdkit-pypi-2021.3.4\n"
          ],
          "name": "stdout"
        }
      ]
    },
    {
      "cell_type": "code",
      "metadata": {
        "id": "fK7j8QKxgYkz"
      },
      "source": [
        "sys.path.append('/usr/local/lib/python3.7/site-packages/')\n",
        "\n",
        "try:\n",
        "  from rdkit import Chem\n",
        "  from rdkit.Chem.Draw import IPythonConsole\n",
        "except ImportError:\n",
        "  print('Stopping RUNTIME. Colaboratory will restart automatically. Please run cell again.')\n",
        "  exit()\n",
        "\n",
        "from rdkit import Chem\n",
        "from rdkit.Chem import AllChem\n",
        "from rdkit.Chem import AllChem, MACCSkeys, rdFMCS\n",
        "\n",
        "from rdkit.Chem import Descriptors,Draw\n",
        "\n",
        "from rdkit.Chem.Draw import IPythonConsole\n",
        "from rdkit.Chem.Scaffolds import MurckoScaffold\n",
        "from rdkit import DataStructs\n",
        "from rdkit.Chem.Fingerprints import FingerprintMols"
      ],
      "execution_count": 5,
      "outputs": []
    },
    {
      "cell_type": "code",
      "metadata": {
        "colab": {
          "base_uri": "https://localhost:8080/"
        },
        "id": "YSPxns_R7fap",
        "outputId": "b31e1aa3-ff93-440b-b155-0b8e129781b6"
      },
      "source": [
        "import torch\n",
        "\n",
        "def format_pytorch_version(version):\n",
        "  return version.split('+')[0]\n",
        "\n",
        "TORCH_version = torch.__version__\n",
        "TORCH = format_pytorch_version(TORCH_version)\n",
        "\n",
        "def format_cuda_version(version):\n",
        "  return 'cu' + version.replace('.', '')\n",
        "\n",
        "CUDA_version = torch.version.cuda\n",
        "CUDA = format_cuda_version(CUDA_version)\n",
        "\n",
        "!pip install torch-scatter     -f https://pytorch-geometric.com/whl/torch-{TORCH}+{CUDA}.html\n",
        "!pip install torch-sparse      -f https://pytorch-geometric.com/whl/torch-{TORCH}+{CUDA}.html\n",
        "!pip install torch-cluster     -f https://pytorch-geometric.com/whl/torch-{TORCH}+{CUDA}.html\n",
        "!pip install torch-spline-conv -f https://pytorch-geometric.com/whl/torch-{TORCH}+{CUDA}.html\n",
        "!pip install torch-geometric \n",
        "# DeepChem # Might come in use for advanced splits\n",
        "!pip install --pre deepchem\n"
      ],
      "execution_count": 6,
      "outputs": [
        {
          "output_type": "stream",
          "text": [
            "Looking in links: https://pytorch-geometric.com/whl/torch-1.9.0+cu102.html\n",
            "Collecting torch-scatter\n",
            "  Downloading https://pytorch-geometric.com/whl/torch-1.9.0%2Bcu102/torch_scatter-2.0.7-cp37-cp37m-linux_x86_64.whl (2.6 MB)\n",
            "\u001b[K     |████████████████████████████████| 2.6 MB 6.3 MB/s \n",
            "\u001b[?25hInstalling collected packages: torch-scatter\n",
            "Successfully installed torch-scatter-2.0.7\n",
            "Looking in links: https://pytorch-geometric.com/whl/torch-1.9.0+cu102.html\n",
            "Collecting torch-sparse\n",
            "  Downloading https://pytorch-geometric.com/whl/torch-1.9.0%2Bcu102/torch_sparse-0.6.10-cp37-cp37m-linux_x86_64.whl (1.4 MB)\n",
            "\u001b[K     |████████████████████████████████| 1.4 MB 4.8 MB/s \n",
            "\u001b[?25hRequirement already satisfied: scipy in /usr/local/lib/python3.7/dist-packages (from torch-sparse) (1.4.1)\n",
            "Requirement already satisfied: numpy>=1.13.3 in /usr/local/lib/python3.7/dist-packages (from scipy->torch-sparse) (1.19.5)\n",
            "Installing collected packages: torch-sparse\n",
            "Successfully installed torch-sparse-0.6.10\n",
            "Looking in links: https://pytorch-geometric.com/whl/torch-1.9.0+cu102.html\n",
            "Collecting torch-cluster\n",
            "  Downloading https://pytorch-geometric.com/whl/torch-1.9.0%2Bcu102/torch_cluster-1.5.9-cp37-cp37m-linux_x86_64.whl (926 kB)\n",
            "\u001b[K     |████████████████████████████████| 926 kB 5.2 MB/s \n",
            "\u001b[?25hInstalling collected packages: torch-cluster\n",
            "Successfully installed torch-cluster-1.5.9\n",
            "Looking in links: https://pytorch-geometric.com/whl/torch-1.9.0+cu102.html\n",
            "Collecting torch-spline-conv\n",
            "  Downloading https://pytorch-geometric.com/whl/torch-1.9.0%2Bcu102/torch_spline_conv-1.2.1-cp37-cp37m-linux_x86_64.whl (382 kB)\n",
            "\u001b[K     |████████████████████████████████| 382 kB 4.9 MB/s \n",
            "\u001b[?25hInstalling collected packages: torch-spline-conv\n",
            "Successfully installed torch-spline-conv-1.2.1\n",
            "Collecting torch-geometric\n",
            "  Downloading torch_geometric-1.7.2.tar.gz (222 kB)\n",
            "\u001b[K     |████████████████████████████████| 222 kB 5.4 MB/s \n",
            "\u001b[?25hRequirement already satisfied: numpy in /usr/local/lib/python3.7/dist-packages (from torch-geometric) (1.19.5)\n",
            "Requirement already satisfied: tqdm in /usr/local/lib/python3.7/dist-packages (from torch-geometric) (4.41.1)\n",
            "Requirement already satisfied: scipy in /usr/local/lib/python3.7/dist-packages (from torch-geometric) (1.4.1)\n",
            "Requirement already satisfied: networkx in /usr/local/lib/python3.7/dist-packages (from torch-geometric) (2.5.1)\n",
            "Requirement already satisfied: python-louvain in /usr/local/lib/python3.7/dist-packages (from torch-geometric) (0.15)\n",
            "Requirement already satisfied: scikit-learn in /usr/local/lib/python3.7/dist-packages (from torch-geometric) (0.22.2.post1)\n",
            "Requirement already satisfied: requests in /usr/local/lib/python3.7/dist-packages (from torch-geometric) (2.23.0)\n",
            "Requirement already satisfied: pandas in /usr/local/lib/python3.7/dist-packages (from torch-geometric) (1.1.5)\n",
            "Collecting rdflib\n",
            "  Downloading rdflib-6.0.0-py3-none-any.whl (376 kB)\n",
            "\u001b[K     |████████████████████████████████| 376 kB 9.2 MB/s \n",
            "\u001b[?25hRequirement already satisfied: googledrivedownloader in /usr/local/lib/python3.7/dist-packages (from torch-geometric) (0.4)\n",
            "Requirement already satisfied: jinja2 in /usr/local/lib/python3.7/dist-packages (from torch-geometric) (2.11.3)\n",
            "Requirement already satisfied: pyparsing in /usr/local/lib/python3.7/dist-packages (from torch-geometric) (2.4.7)\n",
            "Requirement already satisfied: MarkupSafe>=0.23 in /usr/local/lib/python3.7/dist-packages (from jinja2->torch-geometric) (2.0.1)\n",
            "Requirement already satisfied: decorator<5,>=4.3 in /usr/local/lib/python3.7/dist-packages (from networkx->torch-geometric) (4.4.2)\n",
            "Requirement already satisfied: pytz>=2017.2 in /usr/local/lib/python3.7/dist-packages (from pandas->torch-geometric) (2018.9)\n",
            "Requirement already satisfied: python-dateutil>=2.7.3 in /usr/local/lib/python3.7/dist-packages (from pandas->torch-geometric) (2.8.1)\n",
            "Requirement already satisfied: six>=1.5 in /usr/local/lib/python3.7/dist-packages (from python-dateutil>=2.7.3->pandas->torch-geometric) (1.15.0)\n",
            "Requirement already satisfied: setuptools in /usr/local/lib/python3.7/dist-packages (from rdflib->torch-geometric) (57.2.0)\n",
            "Collecting isodate\n",
            "  Downloading isodate-0.6.0-py2.py3-none-any.whl (45 kB)\n",
            "\u001b[K     |████████████████████████████████| 45 kB 2.3 MB/s \n",
            "\u001b[?25hRequirement already satisfied: urllib3!=1.25.0,!=1.25.1,<1.26,>=1.21.1 in /usr/local/lib/python3.7/dist-packages (from requests->torch-geometric) (1.24.3)\n",
            "Requirement already satisfied: certifi>=2017.4.17 in /usr/local/lib/python3.7/dist-packages (from requests->torch-geometric) (2021.5.30)\n",
            "Requirement already satisfied: idna<3,>=2.5 in /usr/local/lib/python3.7/dist-packages (from requests->torch-geometric) (2.10)\n",
            "Requirement already satisfied: chardet<4,>=3.0.2 in /usr/local/lib/python3.7/dist-packages (from requests->torch-geometric) (3.0.4)\n",
            "Requirement already satisfied: joblib>=0.11 in /usr/local/lib/python3.7/dist-packages (from scikit-learn->torch-geometric) (1.0.1)\n",
            "Building wheels for collected packages: torch-geometric\n",
            "  Building wheel for torch-geometric (setup.py) ... \u001b[?25l\u001b[?25hdone\n",
            "  Created wheel for torch-geometric: filename=torch_geometric-1.7.2-py3-none-any.whl size=388142 sha256=fa1ae35a83438df24fa393a43d56a0590247a92eb6669f047b353171be8892b9\n",
            "  Stored in directory: /root/.cache/pip/wheels/55/93/b6/2eeb0465afe89aee74d7a07a606e9770466d7565abd45a99d5\n",
            "Successfully built torch-geometric\n",
            "Installing collected packages: isodate, rdflib, torch-geometric\n",
            "Successfully installed isodate-0.6.0 rdflib-6.0.0 torch-geometric-1.7.2\n",
            "Collecting deepchem\n",
            "  Downloading deepchem-2.6.0.dev20210722182107-py3-none-any.whl (582 kB)\n",
            "\u001b[K     |████████████████████████████████| 582 kB 6.7 MB/s \n",
            "\u001b[?25hRequirement already satisfied: numpy in /usr/local/lib/python3.7/dist-packages (from deepchem) (1.19.5)\n",
            "Requirement already satisfied: scikit-learn in /usr/local/lib/python3.7/dist-packages (from deepchem) (0.22.2.post1)\n",
            "Requirement already satisfied: pandas in /usr/local/lib/python3.7/dist-packages (from deepchem) (1.1.5)\n",
            "Requirement already satisfied: joblib in /usr/local/lib/python3.7/dist-packages (from deepchem) (1.0.1)\n",
            "Requirement already satisfied: scipy in /usr/local/lib/python3.7/dist-packages (from deepchem) (1.4.1)\n",
            "Requirement already satisfied: python-dateutil>=2.7.3 in /usr/local/lib/python3.7/dist-packages (from pandas->deepchem) (2.8.1)\n",
            "Requirement already satisfied: pytz>=2017.2 in /usr/local/lib/python3.7/dist-packages (from pandas->deepchem) (2018.9)\n",
            "Requirement already satisfied: six>=1.5 in /usr/local/lib/python3.7/dist-packages (from python-dateutil>=2.7.3->pandas->deepchem) (1.15.0)\n",
            "Installing collected packages: deepchem\n",
            "Successfully installed deepchem-2.6.0.dev20210722182107\n"
          ],
          "name": "stdout"
        }
      ]
    },
    {
      "cell_type": "code",
      "metadata": {
        "colab": {
          "base_uri": "https://localhost:8080/"
        },
        "id": "38YDON7Uggxk",
        "outputId": "3033a7d1-d235-49d7-d7f7-f06e10df5a09"
      },
      "source": [
        "# Utilities\n",
        "import json\n",
        "from collections import OrderedDict\n",
        "from tqdm.autonotebook import tqdm\n",
        "\n",
        "# Scientific python\n",
        "import matplotlib.pyplot as plt\n",
        "import numpy as np\n",
        "import pandas as pd\n",
        "import seaborn as sns\n",
        "import sklearn\n",
        "import sklearn.decomposition\n",
        "import sklearn.metrics\n",
        "import sklearn.model_selection\n",
        "import sklearn.preprocessing\n",
        "\n",
        "# Pytorch\n",
        "import torch\n",
        "import torch.nn as nn\n",
        "import torch.nn.functional as F\n",
        "import torch_geometric\n",
        "import torch_geometric.nn as gnn\n",
        "from torch_geometric.data import DataLoader, Data\n",
        "print('Pytorch version:',torch.__version__)\n",
        "print('Pytorch Geometric version:',torch_geometric.__version__)\n",
        "\n",
        "\n",
        "\n",
        "tqdm.pandas()\n",
        "\n",
        "# DeepChem\n",
        "import deepchem as dc\n",
        "\n",
        "# OS\n",
        "\n",
        "import copy\n",
        "from collections import Counter\n",
        "\n"
      ],
      "execution_count": 7,
      "outputs": [
        {
          "output_type": "stream",
          "text": [
            "Pytorch version: 1.9.0+cu102\n",
            "Pytorch Geometric version: 1.7.2\n"
          ],
          "name": "stdout"
        },
        {
          "output_type": "stream",
          "text": [
            "/usr/local/lib/python3.7/dist-packages/tqdm/std.py:658: FutureWarning: The Panel class is removed from pandas. Accessing it from the top-level namespace will also be removed in the next version\n",
            "  from pandas import Panel\n"
          ],
          "name": "stderr"
        }
      ]
    },
    {
      "cell_type": "markdown",
      "metadata": {
        "id": "K8UCTr1dppYP"
      },
      "source": [
        "# Mount Drive\n"
      ]
    },
    {
      "cell_type": "code",
      "metadata": {
        "id": "pFhSdSckpubb",
        "colab": {
          "base_uri": "https://localhost:8080/"
        },
        "outputId": "c1ad7ba7-81ea-45fd-b407-7dc113047a1a"
      },
      "source": [
        "from google.colab import drive\n",
        "drive.mount(\"/content/drive\")\n",
        "!ls #To double check if it has been properly mounted"
      ],
      "execution_count": 8,
      "outputs": [
        {
          "output_type": "stream",
          "text": [
            "Mounted at /content/drive\n",
            "drive  Miniconda3-latest-Linux-x86_64.sh  sample_data\n"
          ],
          "name": "stdout"
        }
      ]
    },
    {
      "cell_type": "markdown",
      "metadata": {
        "id": "waW47szIW5sD"
      },
      "source": [
        "#Load Modules\n"
      ]
    },
    {
      "cell_type": "code",
      "metadata": {
        "colab": {
          "base_uri": "https://localhost:8080/"
        },
        "id": "65UYGGJ3ukYt",
        "outputId": "9bd6c91d-9ff7-4246-8e90-847226093ac8"
      },
      "source": [
        "cd /content/drive/My\\ Drive/Colab\\ Notebooks/GNN_EHS/demo_module"
      ],
      "execution_count": 18,
      "outputs": [
        {
          "output_type": "stream",
          "text": [
            "/content/drive/My Drive/Colab Notebooks/GNN_EHS/demo_module\n"
          ],
          "name": "stdout"
        }
      ]
    },
    {
      "cell_type": "code",
      "metadata": {
        "colab": {
          "base_uri": "https://localhost:8080/"
        },
        "id": "9txBxQvl6VoC",
        "outputId": "a644967d-7907-4614-8791-d4767f0a1f74"
      },
      "source": [
        "# very important, if you don't add the path to sys.path \n",
        "# list the program will not look for the file # Try print(sys.path)\n",
        "import sys\n",
        "sys.path.append('/content/drive/My Drive/Colab Notebooks/GNN_EHS')\n",
        "!ls"
      ],
      "execution_count": 19,
      "outputs": [
        {
          "output_type": "stream",
          "text": [
            "accessData.py\tgnnModels_S.py\t\t\t   NetworkP_Tr\n",
            "accessPath.py\t__init__.py\t\t\t   prelimAnalysis.py\n",
            "df_hyp.csv\tMiniconda3-latest-Linux-x86_64.sh  __pycache__\n",
            "df_hyp_S.csv\tmutaPatternAnalysis.py\t\t   utilities_Training_1.py\n",
            "Featurizing.py\tnetworkGraphsM.py\t\t   utilities_Training.py\n",
            "gnnModels_C.py\tnetworkGraphs.py\n"
          ],
          "name": "stdout"
        }
      ]
    },
    {
      "cell_type": "code",
      "metadata": {
        "id": "1TbLqxeGobOP"
      },
      "source": [
        "execfile('accessData.py')\n",
        "#execfile('accessPath.py')\n",
        "execfile('Featurizing.py')\n",
        "!pip install captum \n",
        "execfile('networkGraphs.py')\n",
        "#execfile('networkGraphsM.py')\n",
        "execfile('prelimAnalysis.py')\n",
        "execfile('utilities_Training.py')\n",
        "#execfile('gnnModels_S.py')\n"
      ],
      "execution_count": 43,
      "outputs": []
    },
    {
      "cell_type": "markdown",
      "metadata": {
        "id": "Ayec7aDFp5Dp"
      },
      "source": [
        "# Access Databases\n",
        "\n",
        "\n"
      ]
    },
    {
      "cell_type": "markdown",
      "metadata": {
        "id": "CL2Cdm1FXF72"
      },
      "source": [
        "Note: If its second muta_KNN dataset - change the string from 'mutagenic' and 'NON-mutagenic' to 'mutagen' and 'NON-mutagen' rsp.\n",
        "\n",
        "Apply step 2 only if simpler molecular properties are needed."
      ]
    },
    {
      "cell_type": "code",
      "metadata": {
        "colab": {
          "base_uri": "https://localhost:8080/"
        },
        "id": "q6fZeGxW0Xmu",
        "outputId": "17504694-3c96-4dcf-e974-d0b24d781497"
      },
      "source": [
        "########################\n",
        "###### Step 1 ##########\n",
        "########################\n",
        "\n",
        "''' \n",
        "restructDB ( a , b , c )\n",
        "\n",
        "a  = index of list 'ehsProp' [0-3]\n",
        "b  = type of data base [0-3,0-3,0-3,0-2]\n",
        "c  = ehs property list\n",
        "\n",
        "'''\n",
        "import demo_module\n",
        "from demo_module import accessData\n",
        "path = link(0,0)\n",
        "print(path)\n",
        "#[0,1],[2,0],[1,0],[1,2]\n",
        "df = restructDB(path,0,0)\n",
        "\n",
        "df.head(5)\n",
        "\n",
        "\n",
        "Status = ['Training','Test']\n",
        "train_idx,train_df,y_train = generateIndices(df,Status[0])\n",
        "test_idx,test_df,y_test = generateIndices(df,Status[1])\n",
        "\n",
        "#print(link(1,3,ehsProp))\n",
        "print('Total Carc/Muta data       : ',(df[df['Experimental value']==1]).count()[0]) \n",
        "print('Total NON-(Carc/Muta) data : ',(df[df['Experimental value']==0]).count()[0])  #816\n",
        "print('Total values in a dataset  : ', len(df.index))\n",
        "\n",
        "print('********************')\n",
        "\n",
        "\n",
        "print('Train total points : ', len(train_idx))\n",
        "print('Test points        : ', len(test_idx))\n",
        "\n",
        "########################\n",
        "###### Step 2 ##########\n",
        "########################\n",
        "\n",
        "from demo_module import prelimAnalysis\n",
        "mol_list = df['mol'].to_list()\n",
        "mwt_list = df['Molecular Weight'].to_list()\n",
        "# common atoms\n",
        "no_X,total_atom_list = listCommonElements(mol_list)\n",
        "per_C,wt_C = percentageC(total_atom_list,mwt_list)\n",
        "\n",
        "df['X_Count'] = no_X\n",
        "df['C %']= per_C\n",
        "df['C_W'] = wt_C\n",
        "# To capture aromatic rings\n",
        "list_m =[]\n",
        "for m in mol_list:\n",
        "  k = getRingInfo(m)\n",
        "  list_a = []\n",
        "  for var in k:\n",
        "    f = isRingAromatic(m,var)\n",
        "    list_a.append(f)\n",
        "  list_m.append(list_a)\n",
        "# list_m is list of true or false\n",
        "# For each molecule\n",
        "\n",
        "### Total ring count \n",
        "d = [len(lst) for lst in list_m]\n",
        "### Aromatic ring count \n",
        "count_arom=[sum(lst) for lst in list_m]\n",
        "\n",
        "df['Ring_Count'] = count_arom\n",
        "\n"
      ],
      "execution_count": 21,
      "outputs": [
        {
          "output_type": "stream",
          "text": [
            "1.1.5\n",
            "/content/drive/My Drive/GNNs/Property_databases/carcinogenicity/antares/dataset_CARC_ANTARES.txt\n",
            "in generateIndices\n",
            "in generateIndices\n",
            "Total Carc/Muta data       :  783\n",
            "Total NON-(Carc/Muta) data :  760\n",
            "Total values in a dataset  :  1543\n",
            "********************\n",
            "Train total points :  1543\n",
            "Test points        :  0\n"
          ],
          "name": "stdout"
        }
      ]
    },
    {
      "cell_type": "markdown",
      "metadata": {
        "id": "-XpAYpnvYgFI"
      },
      "source": [
        "# Splitter\n",
        "\n",
        "Can employ other type of spliiers as well.\n",
        "\n",
        "Segregating compounds with rarely occurring atoms and adding them to train dataset might result in a validation dataset that is easier to predict as compared to train datset."
      ]
    },
    {
      "cell_type": "code",
      "metadata": {
        "colab": {
          "base_uri": "https://localhost:8080/"
        },
        "id": "pURjYwEpihob",
        "outputId": "44819eea-043b-4238-853a-eb089b62a7bb"
      },
      "source": [
        "########################\n",
        "###### Step 3 ##########\n",
        "########################\n",
        "\n",
        "a = ['Hg', 'Ga', 'Ni','V','Pb','Mo','Ti','In','Te','As','Sn','Si','Ca']\n",
        "df_exceptions = df[df['SMILES'].str.contains('|'.join(a))]\n",
        "df_rest = df[~df['SMILES'].str.contains('|'.join(a))]\n",
        "df_exceptions.shape[0]\n",
        "# Start with a very simple split\n",
        "indices_df = df_rest.index.tolist()\n",
        "#indices_df = df.index.tolist()\n",
        "train_total_index, test_index = sklearn.model_selection.train_test_split(indices_df,test_size=0.2,random_state=40)\n",
        "train_index, valid_index = sklearn.model_selection.train_test_split(train_total_index,test_size=0.25,random_state=40)\n",
        "# Split normally and add exceptions to train data\n",
        "indices_ex = df_exceptions.index.tolist()\n",
        "train_index = train_index + indices_ex\n",
        "\n",
        "# First Random Split\n",
        "print('Train total points : ', len(train_total_index))\n",
        "print('Test points        : ', len(test_index))\n",
        "# Train Validation Split\n",
        "print('\\nTrain       : ', len(train_index))\n",
        "print('Valid points: ', len(valid_index))\n",
        "print('Test points : ', len(test_index))\n",
        "\n",
        "train_idx = train_index\n",
        "valid_idx = valid_index\n",
        "test_idx = test_index\n"
      ],
      "execution_count": 22,
      "outputs": [
        {
          "output_type": "stream",
          "text": [
            "Train total points :  1227\n",
            "Test points        :  307\n",
            "\n",
            "Train       :  929\n",
            "Valid points:  307\n",
            "Test points :  307\n"
          ],
          "name": "stdout"
        }
      ]
    },
    {
      "cell_type": "markdown",
      "metadata": {
        "id": "00162Bi4Br5G"
      },
      "source": [
        "# Molecule -> Graph -> Batch -> Molecule\n",
        "\n",
        "- Call hyperparameters data frame. This can be altered based on what we chose as hyperparameters.\n",
        "\n",
        "- Convert 'SMILES' strings to moleculare graphs and batch them together into a Data object\n",
        "\n"
      ]
    },
    {
      "cell_type": "code",
      "metadata": {
        "id": "NqRh63ZBNtDQ",
        "colab": {
          "base_uri": "https://localhost:8080/",
          "height": 896
        },
        "outputId": "d7718b9f-42ca-4b2e-a3e4-a9e521c56b48"
      },
      "source": [
        "########################\n",
        "###### Step 4 ##########\n",
        "########################\n",
        "\n",
        "hyp_pth = '/content/drive/My Drive/Colab Notebooks/df_hyp_S.xlsx' #df_hyp\n",
        "df_hyp = pd.read_excel(hyp_pth)\n",
        "df_hyp"
      ],
      "execution_count": 23,
      "outputs": [
        {
          "output_type": "execute_result",
          "data": {
            "text/html": [
              "<div>\n",
              "<style scoped>\n",
              "    .dataframe tbody tr th:only-of-type {\n",
              "        vertical-align: middle;\n",
              "    }\n",
              "\n",
              "    .dataframe tbody tr th {\n",
              "        vertical-align: top;\n",
              "    }\n",
              "\n",
              "    .dataframe thead th {\n",
              "        text-align: right;\n",
              "    }\n",
              "</style>\n",
              "<table border=\"1\" class=\"dataframe\">\n",
              "  <thead>\n",
              "    <tr style=\"text-align: right;\">\n",
              "      <th></th>\n",
              "      <th>conv_dim</th>\n",
              "      <th>num_layer</th>\n",
              "      <th>lr</th>\n",
              "      <th>node_dim</th>\n",
              "    </tr>\n",
              "  </thead>\n",
              "  <tbody>\n",
              "    <tr>\n",
              "      <th>0</th>\n",
              "      <td>16</td>\n",
              "      <td>3</td>\n",
              "      <td>0.000016</td>\n",
              "      <td>75</td>\n",
              "    </tr>\n",
              "    <tr>\n",
              "      <th>1</th>\n",
              "      <td>16</td>\n",
              "      <td>3</td>\n",
              "      <td>0.000011</td>\n",
              "      <td>75</td>\n",
              "    </tr>\n",
              "    <tr>\n",
              "      <th>2</th>\n",
              "      <td>16</td>\n",
              "      <td>3</td>\n",
              "      <td>0.000080</td>\n",
              "      <td>75</td>\n",
              "    </tr>\n",
              "    <tr>\n",
              "      <th>3</th>\n",
              "      <td>16</td>\n",
              "      <td>4</td>\n",
              "      <td>0.000016</td>\n",
              "      <td>75</td>\n",
              "    </tr>\n",
              "    <tr>\n",
              "      <th>4</th>\n",
              "      <td>16</td>\n",
              "      <td>4</td>\n",
              "      <td>0.000011</td>\n",
              "      <td>75</td>\n",
              "    </tr>\n",
              "    <tr>\n",
              "      <th>5</th>\n",
              "      <td>16</td>\n",
              "      <td>4</td>\n",
              "      <td>0.000080</td>\n",
              "      <td>75</td>\n",
              "    </tr>\n",
              "    <tr>\n",
              "      <th>6</th>\n",
              "      <td>16</td>\n",
              "      <td>5</td>\n",
              "      <td>0.000016</td>\n",
              "      <td>75</td>\n",
              "    </tr>\n",
              "    <tr>\n",
              "      <th>7</th>\n",
              "      <td>16</td>\n",
              "      <td>5</td>\n",
              "      <td>0.000011</td>\n",
              "      <td>75</td>\n",
              "    </tr>\n",
              "    <tr>\n",
              "      <th>8</th>\n",
              "      <td>16</td>\n",
              "      <td>5</td>\n",
              "      <td>0.000080</td>\n",
              "      <td>75</td>\n",
              "    </tr>\n",
              "    <tr>\n",
              "      <th>9</th>\n",
              "      <td>32</td>\n",
              "      <td>3</td>\n",
              "      <td>0.000016</td>\n",
              "      <td>75</td>\n",
              "    </tr>\n",
              "    <tr>\n",
              "      <th>10</th>\n",
              "      <td>32</td>\n",
              "      <td>3</td>\n",
              "      <td>0.000011</td>\n",
              "      <td>75</td>\n",
              "    </tr>\n",
              "    <tr>\n",
              "      <th>11</th>\n",
              "      <td>32</td>\n",
              "      <td>3</td>\n",
              "      <td>0.000080</td>\n",
              "      <td>75</td>\n",
              "    </tr>\n",
              "    <tr>\n",
              "      <th>12</th>\n",
              "      <td>32</td>\n",
              "      <td>4</td>\n",
              "      <td>0.000016</td>\n",
              "      <td>75</td>\n",
              "    </tr>\n",
              "    <tr>\n",
              "      <th>13</th>\n",
              "      <td>32</td>\n",
              "      <td>4</td>\n",
              "      <td>0.000011</td>\n",
              "      <td>75</td>\n",
              "    </tr>\n",
              "    <tr>\n",
              "      <th>14</th>\n",
              "      <td>32</td>\n",
              "      <td>4</td>\n",
              "      <td>0.000080</td>\n",
              "      <td>75</td>\n",
              "    </tr>\n",
              "    <tr>\n",
              "      <th>15</th>\n",
              "      <td>32</td>\n",
              "      <td>5</td>\n",
              "      <td>0.000016</td>\n",
              "      <td>75</td>\n",
              "    </tr>\n",
              "    <tr>\n",
              "      <th>16</th>\n",
              "      <td>32</td>\n",
              "      <td>5</td>\n",
              "      <td>0.000011</td>\n",
              "      <td>75</td>\n",
              "    </tr>\n",
              "    <tr>\n",
              "      <th>17</th>\n",
              "      <td>32</td>\n",
              "      <td>5</td>\n",
              "      <td>0.000080</td>\n",
              "      <td>75</td>\n",
              "    </tr>\n",
              "    <tr>\n",
              "      <th>18</th>\n",
              "      <td>64</td>\n",
              "      <td>3</td>\n",
              "      <td>0.000016</td>\n",
              "      <td>75</td>\n",
              "    </tr>\n",
              "    <tr>\n",
              "      <th>19</th>\n",
              "      <td>64</td>\n",
              "      <td>3</td>\n",
              "      <td>0.000011</td>\n",
              "      <td>75</td>\n",
              "    </tr>\n",
              "    <tr>\n",
              "      <th>20</th>\n",
              "      <td>64</td>\n",
              "      <td>3</td>\n",
              "      <td>0.000080</td>\n",
              "      <td>75</td>\n",
              "    </tr>\n",
              "    <tr>\n",
              "      <th>21</th>\n",
              "      <td>64</td>\n",
              "      <td>4</td>\n",
              "      <td>0.000016</td>\n",
              "      <td>75</td>\n",
              "    </tr>\n",
              "    <tr>\n",
              "      <th>22</th>\n",
              "      <td>64</td>\n",
              "      <td>4</td>\n",
              "      <td>0.000011</td>\n",
              "      <td>75</td>\n",
              "    </tr>\n",
              "    <tr>\n",
              "      <th>23</th>\n",
              "      <td>64</td>\n",
              "      <td>4</td>\n",
              "      <td>0.000080</td>\n",
              "      <td>75</td>\n",
              "    </tr>\n",
              "    <tr>\n",
              "      <th>24</th>\n",
              "      <td>64</td>\n",
              "      <td>5</td>\n",
              "      <td>0.000016</td>\n",
              "      <td>75</td>\n",
              "    </tr>\n",
              "    <tr>\n",
              "      <th>25</th>\n",
              "      <td>64</td>\n",
              "      <td>5</td>\n",
              "      <td>0.000011</td>\n",
              "      <td>75</td>\n",
              "    </tr>\n",
              "    <tr>\n",
              "      <th>26</th>\n",
              "      <td>64</td>\n",
              "      <td>5</td>\n",
              "      <td>0.000080</td>\n",
              "      <td>75</td>\n",
              "    </tr>\n",
              "  </tbody>\n",
              "</table>\n",
              "</div>"
            ],
            "text/plain": [
              "    conv_dim  num_layer        lr  node_dim\n",
              "0   16        3          0.000016  75      \n",
              "1   16        3          0.000011  75      \n",
              "2   16        3          0.000080  75      \n",
              "3   16        4          0.000016  75      \n",
              "4   16        4          0.000011  75      \n",
              "5   16        4          0.000080  75      \n",
              "6   16        5          0.000016  75      \n",
              "7   16        5          0.000011  75      \n",
              "8   16        5          0.000080  75      \n",
              "9   32        3          0.000016  75      \n",
              "10  32        3          0.000011  75      \n",
              "11  32        3          0.000080  75      \n",
              "12  32        4          0.000016  75      \n",
              "13  32        4          0.000011  75      \n",
              "14  32        4          0.000080  75      \n",
              "15  32        5          0.000016  75      \n",
              "16  32        5          0.000011  75      \n",
              "17  32        5          0.000080  75      \n",
              "18  64        3          0.000016  75      \n",
              "19  64        3          0.000011  75      \n",
              "20  64        3          0.000080  75      \n",
              "21  64        4          0.000016  75      \n",
              "22  64        4          0.000011  75      \n",
              "23  64        4          0.000080  75      \n",
              "24  64        5          0.000016  75      \n",
              "25  64        5          0.000011  75      \n",
              "26  64        5          0.000080  75      "
            ]
          },
          "metadata": {
            "tags": []
          },
          "execution_count": 23
        }
      ]
    },
    {
      "cell_type": "code",
      "metadata": {
        "colab": {
          "base_uri": "https://localhost:8080/",
          "height": 301,
          "referenced_widgets": [
            "15cb522228444ed7a9305092e50dd8ae",
            "ebf96f65ee7d4256b721c4632ab1e0f9",
            "e21bcf2e82a4482792284f717a0cbad0",
            "125d1543b7d247e2a1eef92e7a56974e",
            "efb50cdad37f431a83a430daedd24d40",
            "437458112bbd468ea19a49136c504bd8",
            "192fefd1d8054d388b2afb32894f6225",
            "400bc13397ed4a92925112963839c048",
            "3687e9931b9b47fc8506568e15871968",
            "82451daca2784949ac57212566b12249",
            "be0b28065ee74deeb6a1e2d02c192c48",
            "acc957e6deea4792acedc56fe4c208ef",
            "a649cdc48b5a434f96d550cc5d851ffc",
            "b89211aaa82c410b9d5a64b827426eda",
            "ae3cfcab4ec34b83b22ef53f489b51e8",
            "accf43ef5361427f8917200a37d4ae66",
            "a64f78336a664df2b985c2e5f37432d5",
            "6a9855dce14c44ed8531a631ccdeea34",
            "664a0f08eb7742ccaaa5ec6b4bac824e",
            "51355688715b44df96525d57b62e31a6",
            "0c8cb2f7351445fe82edb8978b19c357",
            "fb14e65fe379469cb4fe3dfd0d08cbfb",
            "4d10646c0c094f0bbaa3a78b64504121",
            "3991c41370ce4113b955c0a108e032b4"
          ]
        },
        "id": "tEd53IqIubSh",
        "outputId": "0bd50b40-8f48-48ee-c5ea-69920347e93c"
      },
      "source": [
        "########################\n",
        "###### Step 5 ##########\n",
        "########################\n",
        "\n",
        "from demo_module import Featurizing\n",
        "\n",
        "task_type = 'Classification'\n",
        "possible_atom_list,Count = listOfAtoms(df)\n",
        "print(\"Possible atom list:\",possible_atom_list)\n",
        "print(Count)\n",
        "print('----------------')\n",
        "target ='Experimental value'\n",
        "batch_size=1\n",
        "#y_scaler = None\n",
        "\n",
        "y_test = df.loc[test_idx]['Experimental value'].values.reshape(-1,1)#df.loc[df.index.isin(test_index)]\n",
        "y_train = df.loc[train_idx]['Experimental value'].values.reshape(-1,1)\n",
        "y_valid = df.loc[valid_idx]['Experimental value'].values.reshape(-1,1)\n",
        "\n",
        "if task_type == 'Regression':\n",
        "  y_for_standarization = np.vstack((y_train, y_valid))\n",
        "  y_scaler = sklearn.preprocessing.StandardScaler().fit(y_for_standarization)\n",
        "\n",
        "\n",
        "train_loader,train_data = get_dataloader(df, train_idx, target, 'mol',batch_size)#[0:336]\n",
        "valid_loader,valid_data = get_dataloader(df, valid_idx, target, 'mol',batch_size)#[0:336]\n",
        "test_loader,test_data = get_dataloader(df, test_idx, target, 'mol', batch_size)#[0:84]\n",
        "\n",
        "node_dim = n_atom_features()\n",
        "edge_dim = n_bond_features()\n",
        "\n",
        "print('Node/Edge dim: {}/{}'.format(node_dim, edge_dim))\n",
        "print('Train/test   : {}/{}'.format(len(train_idx), len(test_idx)))"
      ],
      "execution_count": 24,
      "outputs": [
        {
          "output_type": "stream",
          "text": [
            "[0, 1, 2, 3, 4, 5, 6, 7, 8, 9, 10]\n",
            "Possible atom list: ['I', 'C', 'Sn', 'Cl', 'O', 'Si', 'Te', 'N', 'As', 'Pb', 'P', 'S', 'Br', 'F']\n",
            "Counter({'C': 18168, 'O': 3978, 'N': 2539, 'Cl': 586, 'S': 307, 'F': 150, 'Br': 56, 'P': 39, 'I': 10, 'Sn': 4, 'As': 3, 'Si': 1, 'Pb': 1, 'Te': 1})\n",
            "----------------\n"
          ],
          "name": "stdout"
        },
        {
          "output_type": "display_data",
          "data": {
            "application/vnd.jupyter.widget-view+json": {
              "model_id": "15cb522228444ed7a9305092e50dd8ae",
              "version_minor": 0,
              "version_major": 2
            },
            "text/plain": [
              "HBox(children=(FloatProgress(value=0.0, max=929.0), HTML(value='')))"
            ]
          },
          "metadata": {
            "tags": []
          }
        },
        {
          "output_type": "stream",
          "text": [
            "\n"
          ],
          "name": "stdout"
        },
        {
          "output_type": "display_data",
          "data": {
            "application/vnd.jupyter.widget-view+json": {
              "model_id": "3687e9931b9b47fc8506568e15871968",
              "version_minor": 0,
              "version_major": 2
            },
            "text/plain": [
              "HBox(children=(FloatProgress(value=0.0, max=307.0), HTML(value='')))"
            ]
          },
          "metadata": {
            "tags": []
          }
        },
        {
          "output_type": "stream",
          "text": [
            "\n"
          ],
          "name": "stdout"
        },
        {
          "output_type": "display_data",
          "data": {
            "application/vnd.jupyter.widget-view+json": {
              "model_id": "a64f78336a664df2b985c2e5f37432d5",
              "version_minor": 0,
              "version_major": 2
            },
            "text/plain": [
              "HBox(children=(FloatProgress(value=0.0, max=307.0), HTML(value='')))"
            ]
          },
          "metadata": {
            "tags": []
          }
        },
        {
          "output_type": "stream",
          "text": [
            "\n",
            "Node/Edge dim: 75/6\n",
            "Train/test   : 929/307\n"
          ],
          "name": "stdout"
        }
      ]
    },
    {
      "cell_type": "markdown",
      "metadata": {
        "id": "QTE_xF4sIUc2"
      },
      "source": [
        "# Model_Edge_Attributions ((NNConv))"
      ]
    },
    {
      "cell_type": "code",
      "metadata": {
        "id": "VD9ZwyCroCMR"
      },
      "source": [
        "########################\n",
        "###### Step 6 ##########\n",
        "########################\n",
        "\n",
        "from torch_geometric.nn import global_add_pool, global_mean_pool, global_max_pool, GlobalAttention, Set2Set\n",
        "from torch_scatter import scatter_mean, scatter_add, scatter_max, scatter_min\n",
        "class GNN(torch.nn.Module):\n",
        "    def __init__(self, num_layer, drop_ratio, conv_dim, gnn_type, JK,graph_pooling):\n",
        "        super(GNN, self).__init__()\n",
        "\n",
        "        # Initialization\n",
        "        self.num_layer  = num_layer\n",
        "        self.drop_ratio = drop_ratio\n",
        "        self.conv_dim   = conv_dim\n",
        "        self.gnn_type   = gnn_type\n",
        "        self.JK         = JK\n",
        "        #self.num_tasks  = num_tasks    # 1 (output value??)\n",
        "        self.graph_pooling = graph_pooling\n",
        "\n",
        "        self.graph_pool_list = [\"add\",\"mean\",\"max\"]\n",
        "        \n",
        "\n",
        "        self.node_dim   =  n_atom_features()      # Num features nodes\n",
        "        self.edge_dim   =  n_bond_features()      # Num features edges\n",
        "\n",
        "        # List of GNNs\n",
        "        self.convs       = torch.nn.ModuleList()\n",
        "        self.batch_norms = torch.nn.ModuleList()\n",
        "\n",
        "        # First embedding atom_dim to conv_dim\n",
        "        self.linatoms = nn.Linear(self.node_dim , conv_dim)\n",
        "\n",
        "        # GNN layers\n",
        "        for layer in range(num_layer):\n",
        "            if gnn_type == 'NNConv':\n",
        "              neurons_message = 5\n",
        "              mes_nn = nn.Sequential(nn.Linear(self.edge_dim, neurons_message), nn.ReLU(), nn.Linear(neurons_message, conv_dim**2))\n",
        "              if graph_pooling in self.graph_pool_list:\n",
        "                self.convs.append(gnn.NNConv(conv_dim, conv_dim, mes_nn,graph_pooling))\n",
        "         \n",
        "            else:\n",
        "                ValueError(f'Undefined GNN type called {gnn_type}') \n",
        "            self.batch_norms.append(torch.nn.BatchNorm1d(conv_dim))\n",
        "        self.mlp1 = nn.Linear(conv_dim, conv_dim)\n",
        "        self.pred = nn.Linear(conv_dim, 1)\n",
        "    \n",
        "    def forward(self, batched_data):\n",
        "        x, edge_index, edge_attr = batched_data.x, batched_data.edge_index, batched_data.edge_attr\n",
        "        \n",
        "        # Original node dimension to first conv dimension\n",
        "        x = F.leaky_relu(self.linatoms(x))\n",
        "        \n",
        "        # GNN layers\n",
        "        x_list = [x]\n",
        "        for layer in range(self.num_layer):\n",
        "            x = self.convs[layer](x_list[layer], edge_index, edge_attr)\n",
        "            x = self.batch_norms[layer](x)\n",
        "\n",
        "            # Remove activation function from last layer\n",
        "            if layer == self.num_layer - 1:\n",
        "                x = F.dropout(x, p=self.drop_ratio, training=self.training)\n",
        "            else:\n",
        "                x = F.dropout(F.leaky_relu(x), p=self.drop_ratio, training=self.training)\n",
        "            x_list.append(x)\n",
        "        \n",
        "\n",
        "        # def message(self, x_j, weights, ):\n",
        "        #     #print(x_j.shape)\n",
        "        #     #print(weights.shape)\n",
        "        #     if \n",
        "        #     weight = weights.view(-1, self.in_channels, self.out_channels)\n",
        "        #     #print(weights.shape)\n",
        "        #     #print(x_j.shape)\n",
        "        #     return torch.matmul(x_j.unsqueeze(1), weight).squeeze(1)\n",
        "\n",
        "        #print(x_list[-1].size)\n",
        "        ### Jumping knowledge https://arxiv.org/pdf/1806.03536.pdf\n",
        "        if self.JK == \"last\":\n",
        "            x = x_list[-1]\n",
        "        elif self.JK == \"sum\":\n",
        "            x = 0\n",
        "            for layer in range(self.num_layer):\n",
        "                x += x_list[layer]\n",
        "        elif self.JK == \"mean\":\n",
        "            x = 0\n",
        "            for layer in range(self.num_layer):\n",
        "                x += x_list[layer]\n",
        "            x = x/self.num_layer\n",
        "        \n",
        "        # Graph embedding\n",
        "        x = scatter_add(x, batched_data.batch, dim=0)\n",
        "        \n",
        "        x = self.pred(x)\n",
        "  \n",
        "        return x"
      ],
      "execution_count": null,
      "outputs": []
    },
    {
      "cell_type": "markdown",
      "metadata": {
        "id": "f_MuND_0NT1e"
      },
      "source": [
        "# Model_Simple (GraphConv)"
      ]
    },
    {
      "cell_type": "code",
      "metadata": {
        "id": "Sz8ccg0pINQM"
      },
      "source": [
        "########################\n",
        "###### Step 6 ##########\n",
        "########################\n",
        "\n",
        "import torch\n",
        "import torch.nn.functional as F\n",
        "from torch.nn import Linear\n",
        "\n",
        "from torch_geometric.nn import global_add_pool, GraphConv\n",
        "\n",
        "class Net(torch.nn.Module):\n",
        "    def __init__(self, dim, node_dim, num_layer):\n",
        "        super(Net, self).__init__()\n",
        "\n",
        "        self.num_features = node_dim\n",
        "        self.dim = dim\n",
        "        self.num_layer= num_layer\n",
        "        #self.task_type = task_type\n",
        "        self.conv1 = GraphConv(node_dim, dim)\n",
        "\n",
        "        # List of GNNs\n",
        "        self.convs       = torch.nn.ModuleList()\n",
        "        for i in range(self.num_layer-1): \n",
        "          self.convs.append(GraphConv(dim, dim))\n",
        "          \n",
        "        self.fc1 = Linear(dim, dim)\n",
        "        self.fc2 = Linear(dim, 1)\n",
        "\n",
        "    def forward(self, x, edge_index, batch, edge_weight=None):\n",
        "        x = F.relu(self.conv1(x, edge_index, edge_weight))\n",
        "        #x_list = [x]\n",
        "        for layer in range(self.num_layer-1):\n",
        "            #x = F.relu(self.convs[layer](x_list[layer], edge_index, edge_weight))\n",
        "            x = F.relu(self.convs[layer](x, edge_index, edge_weight))\n",
        "            x = F.dropout(x, p=0.5, training=self.training)\n",
        "            #x_list.append(x)\n",
        "        # print(edge_weight)\n",
        "        # print('****************')\n",
        "        x = global_add_pool(x, batch)\n",
        "        x = F.relu(self.fc1(x))\n",
        "        x = F.dropout(x, p=0.5, training=self.training)\n",
        "        x = self.fc2(x)\n",
        " \n",
        "        return x#F.log_softmax(x, dim=-1)\n"
      ],
      "execution_count": 45,
      "outputs": []
    },
    {
      "cell_type": "markdown",
      "metadata": {
        "id": "HNiZ4NsH1_3I"
      },
      "source": [
        "# Training Models"
      ]
    },
    {
      "cell_type": "code",
      "metadata": {
        "id": "cMcKzZOD77Yh"
      },
      "source": [
        "from sklearn.metrics import roc_auc_score\n",
        "from demo_module import utilities_Training\n",
        "import copy"
      ],
      "execution_count": 25,
      "outputs": []
    },
    {
      "cell_type": "code",
      "metadata": {
        "id": "_h1u8SOw0aVM"
      },
      "source": [
        "########################\n",
        "###### Step 7 ##########\n",
        "########################\n",
        "\n",
        "model_typ = 'GNN_S'\n",
        "## Paths to save data\n",
        "path_out = '/content/drive/My Drive/Colab Notebooks/GNN_EHS/Carc_Antares_Analysis/'\n",
        "# To save predicted values(logits)\n",
        "up_pth = path_out+'df_pred.csv'\n",
        "# To save corresponding true values(logits)\n",
        "up_pth1 = path_out+'df_true.csv'\n",
        "# To save indices\n",
        "ind_pth = path_out+'df_Indices.csv'\n",
        "Indices_Carc_ISS = {'train':[train_idx], 'valid':[valid_idx], 'test':[test_idx]}\n",
        "df_Indices = pd.DataFrame(Indices_Carc_ISS)\n",
        "df_Indices.to_csv(ind_pth)\n",
        "# To save the hyperparameters used (fail safe).\n",
        "hyp_pth = path_out+'df_hyp.csv'\n",
        "df_hyp.to_csv(hyp_pth)"
      ],
      "execution_count": 47,
      "outputs": []
    },
    {
      "cell_type": "code",
      "metadata": {
        "id": "V4khtkNXv8ux"
      },
      "source": [
        "########################\n",
        "###### Step 8 ##########\n",
        "########################\n",
        "\n",
        "#initilisation\n",
        "lst_hyp = df_hyp.loc[0,:].to_list()\n",
        "for l in range(len(lst_hyp)):\n",
        "  if l != 2: lst_hyp[l] = int(lst_hyp[l]) \n",
        "\n",
        "\n",
        "\n",
        "if model_typ == 'GNN_C':\n",
        "  par_dict = { \"num_layer\": lst_hyp[1], \"drop_ratio\":0.5, \"conv_dim\": lst_hyp[0], \"gnn_type\" : 'NNConv',\"JK\": \"last\",\"graph_pooling\": \"add\"}\n",
        "elif model_typ == 'GNN_S':\n",
        "  par_dict = { \"num_layer\": lst_hyp[1], \"conv_dim\": lst_hyp[0], \"node_dim\": lst_hyp[3]}\n",
        "\n",
        "\n",
        "model,device = initialiseModel(model_typ,par_dict) #Best\n",
        "\n"
      ],
      "execution_count": 48,
      "outputs": []
    },
    {
      "cell_type": "code",
      "metadata": {
        "id": "NdLS37iOA3Je"
      },
      "source": [
        "########################\n",
        "###### Step 9 ##########\n",
        "########################\n",
        "\n",
        "# To initialise prediction data frame\n",
        "df_pred = pd.DataFrame(columns=[i for i in range(27)])\n",
        "df_pred.to_csv(path_out+'df_pred.csv')\n",
        "# To initialise data frame to store true values\n",
        "df_true = pd.DataFrame(columns=[i for i in range(27)])\n",
        "df_true.to_csv(path_out+'df_true.csv')"
      ],
      "execution_count": null,
      "outputs": []
    },
    {
      "cell_type": "code",
      "metadata": {
        "id": "FaK3AnHIKWzP"
      },
      "source": [
        "########################\n",
        "###### Step 10 #########\n",
        "########################\n",
        "\n",
        "new_dict = OrderedDict()\n",
        "Y_pred = []\n",
        "BestEpoch = 0\n",
        "for i in range(0,1):\n",
        "  lst_hyp = df_hyp.loc[i,:].to_list()\n",
        "  for l in range(len(lst_hyp)):\n",
        "    if l != 2: lst_hyp[l] = int(lst_hyp[l]) \n",
        "  #dict_hyp = {'conv_dim':lst_hyp[0],'num_layer':lst_hyp[1],'lr':lst_hyp[2]}\n",
        "  BestModel,BestEpoch,Y_pred,new_dict,Y_true = results_GNN(task_type,train_loader,test_loader,valid_loader,Evaluator_CR,lst_hyp,model_typ)\n",
        "  # Function to update df_pred dataframe with values corresponding to best epoch\n",
        "  updatePred(up_pth,i,Y_pred,BestEpoch)\n",
        "   # Function to update df_true dataframe with values corresponding to best epoch\n",
        "  updatePred(up_pth1,i,Y_true,BestEpoch)\n",
        "   # data frame with metrics and loss data\n",
        "  df_out = pd.DataFrame(new_dict) \n",
        "  df_out.to_csv(path_out+'Output/df_out_'+n_str+'.csv')\n",
        "  # To generate loss plots for train and valid data\n",
        "  ax = df_out.plot(x=\"Epoch\", y=['Train Loss_1','Valid Loss'])\n",
        "  ax.set_xlabel(\"Epoch\")\n",
        "  ax.set_ylabel(\"Loss\")  \n",
        "  n_str = str(i)+'_'+str(BestEpoch)  \n",
        "  plt.savefig(path_out+'Output/lcurve_'+n_str+'.png')\n",
        "  # Save parameters for best model\n",
        "  torch.save(BestModel,path_out+'Carc_best_model'+n_str+'.pth')\n"
      ],
      "execution_count": null,
      "outputs": []
    },
    {
      "cell_type": "markdown",
      "metadata": {
        "id": "_biqgUb9dgOr"
      },
      "source": [
        "#Analysing  Test Data"
      ]
    },
    {
      "cell_type": "code",
      "metadata": {
        "id": "SCynW-NkQuDt"
      },
      "source": [
        "from numpy import argmax\n",
        "from sklearn.datasets import make_classification\n",
        "from sklearn.linear_model import LogisticRegression\n",
        "from sklearn.model_selection import train_test_split\n",
        "from sklearn.metrics import roc_curve\n",
        "from sklearn.metrics import confusion_matrix\n",
        "from numpy import sqrt\n",
        "from numpy import argmax\n",
        "from matplotlib import pyplot\n",
        "\n",
        "def solution(nums,t):\n",
        "  for idx, item in enumerate(nums):\n",
        "    if item >= t:\n",
        "      nums[idx] = 1 \n",
        "    else:\n",
        "      nums[idx] = 0 \n",
        "  return nums\n"
      ],
      "execution_count": null,
      "outputs": []
    },
    {
      "cell_type": "code",
      "metadata": {
        "id": "BepgD73ewigT",
        "colab": {
          "base_uri": "https://localhost:8080/"
        },
        "outputId": "00016279-cebb-473d-f840-94c2605bf274"
      },
      "source": [
        "########################\n",
        "###### Step 11 #########\n",
        "########################\n",
        "\n",
        "# finding threshold in case to generate confusion matrix\n",
        "\n",
        "df_pred=pd.read_csv(up_pth)\n",
        "pbs = df_pred.iloc[:,1].to_list()\n",
        "pbs_t = torch.FloatTensor(pbs)\n",
        "m = nn.Sigmoid()\n",
        "# z = [1/(1 + np.exp(-i)) for i in pbs]\n",
        "# For iteration with loss curves showing good fit.\n",
        "# chose i\n",
        "df_output=pd.read_csv(up_pth1)\n",
        "t_label = df_output.iloc[:,i].to_list()\n",
        "t_label = df.loc[test_idx, target].to_list()\n",
        "fpr, tpr, thresholds = roc_curve(t_label, m(pbs_t))\n",
        "\n",
        " #Youden’s J statistic.\n",
        "J = tpr - fpr\n",
        "ix = argmax(J)\n",
        "best_thresh = thresholds[ix]\n",
        "print('Best Threshold=%f' % (best_thresh))\n",
        "Predictions = [int(i) for i in solution(m(pbs_t),best_thresh)]\n",
        "print('No. of ones',sum(Predictions))\n",
        "print('No. of zeros',len(Predictions)-sum(Predictions))\n",
        "\n",
        "print('Confusion Matrix:')\n",
        "print(confusion_matrix(t_label, Predictions))\n",
        "print('tn, fp, fn, tp',confusion_matrix(t_label, Predictions).ravel())"
      ],
      "execution_count": null,
      "outputs": [
        {
          "output_type": "stream",
          "text": [
            "Best Threshold=0.502224\n",
            "No. of ones 123\n",
            "No. of zeros 186\n",
            "Confusion Matrix:\n",
            "[[109  42]\n",
            " [ 77  81]]\n",
            "tn, fp, fn, tp [109  42  77  81]\n"
          ],
          "name": "stdout"
        }
      ]
    },
    {
      "cell_type": "code",
      "metadata": {
        "id": "b9B1u68qIfkU",
        "colab": {
          "base_uri": "https://localhost:8080/",
          "height": 302
        },
        "outputId": "4d2ca90a-1230-4809-f7a3-514deea19735"
      },
      "source": [
        "gmeans = sqrt(tpr * (1-fpr))\n",
        "# locate the index of the largest g-mean\n",
        "ix = argmax(gmeans)\n",
        "print('Best Threshold=%f, G-Mean=%.3f' % (thresholds[ix], gmeans[ix]))\n",
        "# plot the roc curve for the model\n",
        "pyplot.plot([0,1], [0,1], linestyle='--', label='No Skill')\n",
        "pyplot.plot(fpr, tpr, marker='.', label='Logistic')\n",
        "pyplot.scatter(fpr[ix], tpr[ix], marker='o', color='black', label='Best')"
      ],
      "execution_count": null,
      "outputs": [
        {
          "output_type": "stream",
          "text": [
            "Best Threshold=0.502224, G-Mean=0.608\n"
          ],
          "name": "stdout"
        },
        {
          "output_type": "execute_result",
          "data": {
            "text/plain": [
              "<matplotlib.collections.PathCollection at 0x7f038af786d0>"
            ]
          },
          "metadata": {
            "tags": []
          },
          "execution_count": 103
        },
        {
          "output_type": "display_data",
          "data": {
            "image/png": "[encoded data removed]",
            "text/plain": [
              "<Figure size 432x288 with 1 Axes>"
            ]
          },
          "metadata": {
            "tags": [],
            "needs_background": "light"
          }
        }
      ]
    },
    {
      "cell_type": "markdown",
      "metadata": {
        "id": "_wkUd699jZVS"
      },
      "source": [
        "# Pre-Attribution"
      ]
    },
    {
      "cell_type": "code",
      "metadata": {
        "id": "t5C0c7jg4qFI"
      },
      "source": [
        "########################\n",
        "###### Step 12 #########\n",
        "########################\n",
        "\n",
        "test_df= df.loc[test_idx]\n",
        "df_network = test_df[['Id','SMILES','Experimental value','Predicted value'] ]\n",
        "df_network.insert(4, 'Predicted value_GNN', Predictions, True)\n",
        "Data_lst = []\n",
        "for data in test_loader: Data_lst.append(data)\n",
        "df_network.insert(5, 'Graph Data', Data_lst, True)"
      ],
      "execution_count": null,
      "outputs": []
    },
    {
      "cell_type": "code",
      "metadata": {
        "colab": {
          "base_uri": "https://localhost:8080/"
        },
        "id": "sBSf2Eus6U9i",
        "outputId": "cdc848d2-b563-4c1c-f8b9-0baa0bd5721c"
      },
      "source": [
        "########################\n",
        "###### Step 13 #########\n",
        "########################\n",
        "\n",
        "Id = df_network['Id'].to_list()\n",
        "Exp_lst = df_network['Experimental value'].to_list()\n",
        "Pd_Q = df_network['Predicted value'].to_list()\n",
        "Pd_GNN = df_network['Predicted value_GNN'].to_list()\n",
        "\n",
        "# To choose first five compounds for each case\n",
        "# To compare with rdkit renderings\n",
        "correct = []\n",
        "correct_Q = []\n",
        "correct_GNN = []\n",
        "incorrect = []\n",
        "for i, t in enumerate(zip(Id,Exp_lst, Pd_Q, Pd_GNN)):\n",
        "  if Exp_lst[i] == Pd_Q[i] and Pd_Q[i] == Pd_GNN[i]:\n",
        "    correct.append(Id[i])\n",
        "  elif Exp_lst[i] == Pd_Q[i] and Exp_lst[i] != Pd_GNN[i]:\n",
        "     correct_Q.append(Id[i])\n",
        "  elif Exp_lst[i] != Pd_Q[i] and Exp_lst[i] == Pd_GNN[i]:\n",
        "     correct_GNN.append(Id[i])\n",
        "  elif Exp_lst[i] != Pd_Q[i] and Exp_lst[i] != Pd_GNN[i]:\n",
        "     incorrect.append(Id[i])\n",
        "\n",
        "\n",
        "print(len(correct))\n",
        "print('No.of correct values:',correct)\n",
        "print(len(correct_Q))\n",
        "print('No.of correct values:',correct_Q)\n",
        "print(len(correct_GNN))\n",
        "print('No.of correct values:',correct_GNN)\n",
        "print(len(incorrect))\n",
        "print('No.of correct values:',incorrect)\n"
      ],
      "execution_count": null,
      "outputs": [
        {
          "output_type": "stream",
          "text": [
            "133\n",
            "No.of correct values: [1281, 771, 1052, 872, 1424, 1422, 1190, 227, 554, 1343, 1323, 1235, 906, 1292, 103, 972, 1211, 267, 99, 615, 739, 775, 539, 204, 490, 1416, 289, 252, 1524, 474, 453, 100, 1122, 1246, 430, 1428, 24, 44, 448, 38, 170, 710, 1251, 1009, 346, 526, 853, 969, 659, 1449, 42, 1421, 845, 683, 622, 505, 1540, 708, 184, 1002, 520, 929, 449, 1169, 1189, 1497, 43, 957, 557, 686, 789, 1531, 1324, 1289, 376, 1220, 316, 10, 1440, 1451, 516, 469, 550, 90, 276, 1126, 701, 1423, 1484, 920, 1411, 119, 608, 25, 1407, 870, 899, 1299, 709, 1274, 1179, 1054, 303, 1147, 835, 765, 1413, 784, 285, 918, 1241, 1515, 1136, 632, 1539, 228, 1140, 393, 60, 591, 169, 900, 116, 1441, 1431, 514, 932, 1502, 1110, 210, 715, 1445, 345]\n",
            "72\n",
            "No.of correct values: [643, 310, 669, 1180, 889, 1269, 954, 1349, 1368, 687, 187, 1124, 1300, 759, 28, 482, 328, 1199, 408, 230, 1448, 465, 136, 1410, 822, 679, 8, 657, 1239, 677, 1037, 1346, 680, 92, 1512, 897, 94, 979, 1092, 293, 865, 958, 1254, 481, 892, 273, 84, 1115, 194, 446, 1307, 218, 242, 1099, 1419, 1429, 361, 627, 80, 126, 884, 238, 211, 1492, 350, 1173, 125, 1338, 1388, 832, 893, 704]\n",
            "57\n",
            "No.of correct values: [128, 1095, 1015, 1508, 1511, 936, 922, 1233, 349, 225, 1321, 1406, 243, 817, 1144, 722, 1481, 800, 1175, 488, 1193, 1280, 380, 689, 1345, 1070, 1374, 209, 1103, 1420, 109, 1061, 419, 146, 1187, 773, 1089, 718, 87, 757, 1043, 1118, 432, 1520, 638, 834, 179, 251, 1331, 145, 850, 438, 423, 1000, 424, 237, 1402]\n",
            "47\n",
            "No.of correct values: [532, 177, 629, 1005, 1042, 949, 890, 411, 1432, 270, 262, 991, 766, 1160, 120, 256, 745, 880, 552, 566, 302, 513, 633, 652, 1291, 47, 776, 1278, 239, 1446, 1155, 77, 603, 1113, 953, 479, 1178, 257, 644, 144, 816, 1417, 113, 290, 161, 733, 1533]\n"
          ],
          "name": "stdout"
        }
      ]
    },
    {
      "cell_type": "code",
      "metadata": {
        "id": "MP6wLrEVZByU"
      },
      "source": [
        "########################\n",
        "###### Step 14 #########\n",
        "########################\n",
        "\n",
        "def createDF(df_network,ind_lst,ctype):\n",
        "  df_new = df_network.loc[df_network['Id'].isin(ind_lst)]\n",
        "  if ctype == 'Mutagenic':\n",
        "    df_c_p = df_new.loc[df_network['Experimental value']==1][0:5]\n",
        "  elif ctype == 'Non-Mutagenic':\n",
        "    df_c_p = df_new.loc[df_network['Experimental value']==0][0:5]\n",
        "  return df_c_p"
      ],
      "execution_count": null,
      "outputs": []
    },
    {
      "cell_type": "code",
      "metadata": {
        "id": "Ij9tdn29fngW"
      },
      "source": [
        "# df_c_M = df_network.loc[[1281, 1052, 872, 1424, 1422]]\n",
        "# df_c_NM = df_network.loc[[771, 227, 1323, 906, 1292]]\n",
        "# df_cQ_M = df_network.loc[[643, 310, 669, 889, 954]]\n",
        "# df_cQ_NM = df_network.loc[[1180, 1269, 1124, 28, 1239]]\n",
        "# df_cG_M = df_network.loc[[243, 1193, 380, 423, 237]]\n",
        "# df_cG_NM = df_network.loc[[128, 1095, 1015, 1508, 1511]]\n",
        "# df_cI_M = df_network.loc[[411, 270, 991, 1160, 120]]\n",
        "# df_cI_NM = df_network.loc[[532, 177, 629, 1005, 1042]]"
      ],
      "execution_count": null,
      "outputs": []
    },
    {
      "cell_type": "markdown",
      "metadata": {
        "id": "pvqVdTB4b5vw"
      },
      "source": [
        "#Attribution"
      ]
    },
    {
      "cell_type": "markdown",
      "metadata": {
        "id": "M4OQ2PYyjlxx"
      },
      "source": [
        "Load best model parameters\n",
        "Change PATH in step 15"
      ]
    },
    {
      "cell_type": "code",
      "metadata": {
        "id": "j2nY4aC-F6dT"
      },
      "source": [
        "########################\n",
        "###### Step 15 #########\n",
        "########################\n",
        "\n",
        "def load_checkpoint(filepath):\n",
        "    model = torch.load(filepath)\n",
        "    model.eval()\n",
        "    return model\n",
        "PATH     = path_out + 'Carc_best_model0_282.pth'\n",
        "#PATH = '/content/drive/My Drive/Colab Notebooks/GNN_EHS/demo_module/OctWat_best_model.pth'\n",
        "model = load_checkpoint(PATH)"
      ],
      "execution_count": null,
      "outputs": []
    },
    {
      "cell_type": "code",
      "metadata": {
        "id": "9R1y3RW73l_B"
      },
      "source": [
        "def generateFigures(df_c_M,nameF,nameFT):\n",
        "    appd = [str(df_c_M['Id'].to_list()[i])+nameFT for i in range(5)]\n",
        "    net_Path_dict = {'absPath':path_out,'name':''}\n",
        "    # THIS_FOLDER1 = os.path.dirname(os.path.abspath(net_Path_dict['absPath']))\n",
        "    # print(THIS_FOLDER1)\n",
        "    #f = random.choice([(t,l) for t,l in zip(test_loader,test_data)])# if not t.y.item()\n",
        "    #df_c_p['Graph Data'].\n",
        "    edge_mask_lst = []\n",
        "    for i,t in enumerate(appd):\n",
        "      net_Path_dict['name'] = 'Carc_Antares_Analysis/'+nameF+appd[i]+'.png'\n",
        "      f = df_c_M['Graph Data'].iloc[i]\n",
        "      mol = to_molecule(f,Total_atom_list)\n",
        "    #mol = to_molecule(data)\n",
        "      for title, method in [('Integrated Gradients', 'ig')]: #, ('Saliency', 'saliency')#('Integrated Gradients', 'ig')\n",
        "          #out = model_forward(edge_mask, data)\n",
        "          edge_mask = explain(method, f)\n",
        "          edge_mask_dict = aggregate_edge_directions(edge_mask, f)\n",
        "          plt.figure(figsize=(8, 8))\n",
        "          plt.title(title)\n",
        "          draw_molecule(mol,net_Path_dict,edge_mask_dict)\n",
        "      edge_mask_lst.append(edge_mask_dict)\n",
        "    return edge_mask_lst\n",
        "      "
      ],
      "execution_count": null,
      "outputs": []
    },
    {
      "cell_type": "markdown",
      "metadata": {
        "id": "8_l0ICoCjr0o"
      },
      "source": [
        "To generate attribution figures"
      ]
    },
    {
      "cell_type": "code",
      "metadata": {
        "id": "fDeessW6aBYz"
      },
      "source": [
        "# Correct in case of both GNN and QSAR\n",
        "df_c_M = createDF(df_network,correct,'Mutagenic')\n",
        "edge_mask_lst1 = generateFigures(df_c_M,'absC/','M')\n",
        "df_c_NM = createDF(df_network,correct,'Non-Mutagenic')\n",
        "edge_mask_lst2 = generateFigures(df_c_NM,'absC/','NM')\n",
        "# Correct in case of QSAR and not GNN \n",
        "df_cQ_M = createDF(df_network,correct_Q,'Mutagenic')\n",
        "edge_mask_lst3 = generateFigures(df_cQ_M,'CQ/','M')\n",
        "df_cQ_NM = createDF(df_network,correct_Q,'Non-Mutagenic')#Non-Mutagenic\n",
        "edge_mask_lst4 = generateFigures(df_cQ_NM,'CQ/','NM')\n",
        "# Correct in case of GNN and not QSAR\n",
        "df_cG_M = createDF(df_network,correct_GNN,'Mutagenic')\n",
        "edge_mask_lst5 = generateFigures(df_cG_M,'CG/','M')\n",
        "df_cG_NM = createDF(df_network,correct_GNN,'Non-Mutagenic')\n",
        "edge_mask_lst6 = generateFigures(df_cG_NM,'CG/','NM')\n",
        "# Correct in case of neither GNN and nor QSAR\n",
        "df_cI_M = createDF(df_network,incorrect,'Mutagenic')\n",
        "edge_mask_lst7 = generateFigures(df_cI_M,'InC/','M')\n",
        "df_cI_NM = createDF(df_network,incorrect,'Non-Mutagenic')\n",
        "edge_mask_lst8 = generateFigures(df_cI_NM,'InC/','NM')\n",
        "#df_cQ_p[['Experimental value', 'Predicted value','Predicted value_GNN']]\n"
      ],
      "execution_count": null,
      "outputs": []
    }
  ]
}